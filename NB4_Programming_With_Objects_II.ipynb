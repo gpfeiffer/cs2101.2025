{
 "cells": [
  {
   "cell_type": "markdown",
   "id": "8adb7344",
   "metadata": {},
   "source": [
    "### Programming for Science and Finance\n",
    "\n",
    "*Prof. Götz Pfeiffer, School of Mathematical and Statistical Sciences, University of Galway*"
   ]
  },
  {
   "cell_type": "markdown",
   "id": "0e1b094f",
   "metadata": {},
   "source": [
    "# Notebook 4: Programming with Objects II\n",
    "\n",
    "This notebook accompanies **Part I**. You will:\n",
    "\n",
    "* Deepen your understanding of **object-oriented programming (OOP)** by building on existing class structures.\n",
    "* Learn how to use **inheritance** to create specialised classes that reuse and extend existing functionality.\n",
    "* Explore **method overriding** and how subclasses can change or refine inherited behaviour.\n",
    "* Understand the difference between **inheritance** and **composition**, and when to prefer one over the other.\n",
    "* Implement small class hierarchies that model mathematical systems (like vectors and matrices).\n",
    "* See how **polymorphism** allows different object types to respond to the same operation in flexible ways.\n",
    "\n",
    "By the end, you will be able to design and extend multi-class systems that are modular, reusable, and well-structured — the kind of architecture used in real-world scientific and financial software."
   ]
  },
  {
   "cell_type": "markdown",
   "id": "b5e1e6f2",
   "metadata": {},
   "source": [
    "##  Why Inheritance?\n",
    "\n",
    "Different elements of the Python language can help us in different ways with one of the main challenges in programming:\n",
    "\n",
    "* to **break big tasks up into small, manageable pieces**.\n",
    "\n",
    "When working with objects, **inheritance** avoids code repetition by declaring a new class as a **subclass** (or a **child**)\n",
    "of some other class (the **parent** class).  The child then inherits all the methods defined in the parent class.\n",
    "\n",
    "\n",
    "As an **examples**, we will design a `Matrix` class, identify the overlap in functionality with the `Vector` class, and then restructure and simplify the code \n",
    "through a common parent class `Tensor`."
   ]
  },
  {
   "cell_type": "markdown",
   "id": "66461924",
   "metadata": {},
   "source": [
    "## Task 1. Inheritance Example"
   ]
  },
  {
   "cell_type": "markdown",
   "id": "35fa5c04",
   "metadata": {},
   "source": [
    "Suppose you need to process data for **students** and **teachers**.  Both have attributes in common (like a name), while differing in behavior.  We define classes, one for student objects, and one for teacher objects, as subclasses of a common parent `Person`."
   ]
  },
  {
   "cell_type": "code",
   "execution_count": null,
   "id": "2b847e5c",
   "metadata": {},
   "outputs": [],
   "source": [
    "class Person:\n",
    "    def __init__(self, first, last):\n",
    "        self.firstname = first\n",
    "        self.lastname = last\n",
    "    def __repr__(self):\n",
    "        return f\"{self.firstname} {self.lastname}\"\n",
    "    def chat(self):\n",
    "        print(f\"Hi, I'm {self}. How are you getting on?\")"
   ]
  },
  {
   "cell_type": "markdown",
   "id": "2fc1a929",
   "metadata": {},
   "source": [
    "Then we can create a person, and make them chat ..."
   ]
  },
  {
   "cell_type": "code",
   "execution_count": null,
   "id": "89eaa8d3",
   "metadata": {},
   "outputs": [],
   "source": [
    "john = Person(\"John\", \"Kelly\")\n",
    "print(john)\n",
    "john.chat()"
   ]
  },
  {
   "cell_type": "markdown",
   "id": "e79e143d",
   "metadata": {},
   "source": [
    "A `Student` is like a `Person`, except that each student **has** a student id, which can be used as email account."
   ]
  },
  {
   "cell_type": "code",
   "execution_count": null,
   "id": "72b41de1",
   "metadata": {},
   "outputs": [],
   "source": [
    "class Student:\n",
    "    def __init__(self, first, last, number):\n",
    "        self.firstname = first\n",
    "        self.lastname = last\n",
    "        self.student_id = number\n",
    "    def __repr__(self):\n",
    "        return f\"{self.firstname} {self.lastname}\"\n",
    "    def chat(self):\n",
    "        print(f\"Hi, I'm {self}. How are you getting on?\")\n",
    "    def email(self):\n",
    "        return f\"{self.student_id}@uni.ie\""
   ]
  },
  {
   "cell_type": "markdown",
   "id": "e819fe39",
   "metadata": {},
   "source": [
    "As before, we now can create a student and make them chat.  We can also get their email address."
   ]
  },
  {
   "cell_type": "code",
   "execution_count": null,
   "id": "1053861b",
   "metadata": {},
   "outputs": [],
   "source": [
    "anna = Student(\"Anna\", \"Byrne\", 4321)\n",
    "print(anna)\n",
    "print(anna.email())\n",
    "anna.chat()"
   ]
  },
  {
   "cell_type": "markdown",
   "id": "4ed65d59",
   "metadata": {},
   "source": [
    "Inheritance allows us to avoid unnnecessary repetition, by defining `Student` as a subclass of `Person`, where only the new attributes (`student_id`) and behaviour (`email`) need to be take care of."
   ]
  },
  {
   "cell_type": "code",
   "execution_count": null,
   "id": "57d2bb41",
   "metadata": {},
   "outputs": [],
   "source": [
    "class Student(Person):\n",
    "    def __init__(self, first, last, number):\n",
    "        self.firstname = first\n",
    "        self.lastname = last\n",
    "        self.student_id = number\n",
    "    def email(self):\n",
    "        return f\"{self.student_id}@uni.ie\""
   ]
  },
  {
   "cell_type": "markdown",
   "id": "acf7c5f2",
   "metadata": {},
   "source": [
    "Objects this `Student` class work exactly as above."
   ]
  },
  {
   "cell_type": "code",
   "execution_count": null,
   "id": "039a2738",
   "metadata": {},
   "outputs": [],
   "source": [
    "anna = Student(\"Anna\", \"Byrne\", 4321)\n",
    "print(anna)\n",
    "print(anna.email())\n",
    "anna.chat()"
   ]
  },
  {
   "cell_type": "markdown",
   "id": "9fe9fa6a",
   "metadata": {},
   "source": [
    "The `super` function allows for even more re-use of functionality from the parent class, for example in the object initialization. "
   ]
  },
  {
   "cell_type": "code",
   "execution_count": null,
   "id": "94134fc8",
   "metadata": {},
   "outputs": [],
   "source": [
    "class Student(Person):\n",
    "    def __init__(self, first, last, number):\n",
    "        super().__init__(first, last)\n",
    "        self.student_id = number\n",
    "    def email(self):\n",
    "        return f\"{self.student_id}@uni.ie\""
   ]
  },
  {
   "cell_type": "markdown",
   "id": "775bc09c",
   "metadata": {},
   "source": [
    "Test it:"
   ]
  },
  {
   "cell_type": "code",
   "execution_count": null,
   "id": "2722794f",
   "metadata": {},
   "outputs": [],
   "source": [
    "anna = Student(\"Anna\", \"Byrne\", 4321)\n",
    "print(anna)"
   ]
  },
  {
   "cell_type": "markdown",
   "id": "2e4f3296",
   "metadata": {},
   "source": [
    "A teacher is like a person, except that a teacher has a title ..."
   ]
  },
  {
   "cell_type": "code",
   "execution_count": null,
   "id": "3939eea8",
   "metadata": {},
   "outputs": [],
   "source": [
    "class Teacher(Person):\n",
    "    def __init__(self, first, last, title):\n",
    "        super().__init__(first, last)\n",
    "        self.title = title\n",
    "    def __repr__(self):\n",
    "        return f\"{self.title} {self.lastname}\"\n",
    "    def chat(self):\n",
    "        print(f\"Hi, I'm {self}. Have you done your homework?\")"
   ]
  },
  {
   "cell_type": "markdown",
   "id": "ab8fcc87",
   "metadata": {},
   "source": [
    "We can now create a teacher and make them chat:"
   ]
  },
  {
   "cell_type": "code",
   "execution_count": null,
   "id": "8e844314",
   "metadata": {},
   "outputs": [],
   "source": [
    "teacher = Teacher(\"Steven\", \"Kennedy\", \"Mr.\")\n",
    "teacher.chat()"
   ]
  },
  {
   "cell_type": "markdown",
   "id": "f62dd09a",
   "metadata": {},
   "source": [
    "There is in fact a way to make a `Teacher` chat like a normal `Person`:"
   ]
  },
  {
   "cell_type": "code",
   "execution_count": null,
   "id": "8484c96c",
   "metadata": {},
   "outputs": [],
   "source": [
    "super(Teacher, teacher).chat()"
   ]
  },
  {
   "cell_type": "markdown",
   "id": "f848da4e",
   "metadata": {},
   "source": [
    "---\n",
    "**Exercises**\n",
    "\n",
    "1. Add a method `f_last` to the `Person` class so that it returns a string of the form `\"A. Byrne\"` for `anna`, i.e., the first name intial followed by the last name.\n",
    "How would you apply it to a `Teacher` object?  And what would it return for Mr. Kennedy?\n",
    "\n",
    "2. Add a method `email` to the `Teacher` class so that it returns a string like `\"kennedy@example.com\"` for Mr. Kennedy.  How would this method affect the `Student`'s `email` method?\n",
    "\n",
    "---"
   ]
  },
  {
   "cell_type": "markdown",
   "id": "e86171cb",
   "metadata": {},
   "source": [
    "## Task 2. Matrix Algebra"
   ]
  },
  {
   "cell_type": "markdown",
   "id": "d924d206",
   "metadata": {},
   "source": [
    "Recall the `Vector` class:"
   ]
  },
  {
   "cell_type": "code",
   "execution_count": null,
   "id": "741968c0",
   "metadata": {},
   "outputs": [],
   "source": [
    "class Vector:\n",
    "    def __init__(self, data):\n",
    "        self.data = data\n",
    "\n",
    "    def __repr__(self):\n",
    "        return f\"Vector({self.data})\"\n",
    "    \n",
    "    def __len__(self):\n",
    "        return len(self.data)\n",
    "    \n",
    "    def __getitem__(self, i):\n",
    "        return self.data[i]\n",
    "    \n",
    "    def __iter__(self):\n",
    "        return iter(self.data)\n",
    "    \n",
    "    def __add__(self, other):\n",
    "        assert len(self) == len(other), \"length mismatch\"\n",
    "        return Vector([x + y for x, y in zip(self, other)])\n",
    "    \n",
    "    def __rmul__(self, other):\n",
    "        return Vector([other * x for x in self])"
   ]
  },
  {
   "cell_type": "markdown",
   "id": "0c80c646",
   "metadata": {},
   "source": [
    "A **matrix** is a $2$-dimensional, rectangular collection of numerical data, like\n",
    "$$\n",
    " A = \\left[\n",
    "  \\begin{array}{ccc}\n",
    "  1 & 0 & 1 \\\\\n",
    "  2 & 1 & 1 \\\\\n",
    "  0 & 1 & 1 \\\\\n",
    "  1 & 1 & 2\n",
    "  \\end{array}\n",
    "  \\right].\n",
    "$$\n",
    "The rows of a matrix are vectors, and so are the columns. Here, the rows of $A$ are the vectors\n",
    "$$\n",
    "\\left[\n",
    "  \\begin{array}{ccc}\n",
    "  1 & 0 & 1 \n",
    "  \\end{array}\n",
    "  \\right],\n",
    "\\quad\n",
    "  \\left[\n",
    "  \\begin{array}{ccc}\n",
    "  2 & 1 & 1 \n",
    "  \\end{array}\n",
    "  \\right],\n",
    "\\quad\n",
    "  \\left[\n",
    "  \\begin{array}{ccc}\n",
    "  0 & 1 & 1 \n",
    "  \\end{array}\n",
    "  \\right],\n",
    "\\quad \\text{and} \\quad\n",
    "  \\left[\n",
    "  \\begin{array}{ccc}\n",
    "   1 & 1 & 2\n",
    "  \\end{array}\n",
    "  \\right].\n",
    "$$\n",
    "Matrices are **like vectors**: you can add two matrices, provided they have the **same shape** (i.e., the same number of rows and the same number of columns), and you can stretch or shrink a matrix by a scalar factor.  So we should expect the methods implementing such behaviour for matrices to be very similar to the corresponding methods for vectors.  In fact, by regarding a matrix as a **list of vectors** (its rows), just like a vector is a **list of numbers**, the matrix methods can be almost identical to the vector methods.  And we can take advantage of the fact that python already knows how to compute with `Vector`s ..."
   ]
  },
  {
   "cell_type": "code",
   "execution_count": null,
   "id": "5b827d02",
   "metadata": {},
   "outputs": [],
   "source": [
    "class Matrix:\n",
    "    def __init__(self, data):\n",
    "        self.data = data\n",
    "\n",
    "    def __repr__(self):\n",
    "        return f\"Matrix({self.data})\"\n",
    "    \n",
    "    def __len__(self):\n",
    "        return len(self.data)\n",
    "    \n",
    "    def __getitem__(self, i):\n",
    "        return self.data[i]\n",
    "    \n",
    "    def __iter__(self):\n",
    "        return iter(self.data)\n",
    "    \n",
    "    def __add__(self, other):\n",
    "        assert len(self) == len(other), \"length mismatch\"\n",
    "        return Matrix([x + y for x, y in zip(self, other)])\n",
    "    \n",
    "    def __rmul__(self, other):\n",
    "        return Matrix([other * x for x in self])"
   ]
  },
  {
   "cell_type": "markdown",
   "id": "898cd372",
   "metadata": {},
   "source": [
    "Now we can create a `Matrix` object corresponding to the matrix $A$ above, as follows."
   ]
  },
  {
   "cell_type": "code",
   "execution_count": null,
   "id": "8b5f6e3f",
   "metadata": {},
   "outputs": [],
   "source": [
    "ma = Matrix([\n",
    "    Vector([1, 0, 1]),\n",
    "    Vector([2, 1, 1]),\n",
    "    Vector([0, 1, 1]),\n",
    "    Vector([1, 1, 2])\n",
    "])\n",
    "ma"
   ]
  },
  {
   "cell_type": "markdown",
   "id": "1a9530fe",
   "metadata": {},
   "source": [
    "Compute $3A$, the $3$-multiple of $A$:"
   ]
  },
  {
   "cell_type": "code",
   "execution_count": null,
   "id": "cf5bf6c4",
   "metadata": {},
   "outputs": [],
   "source": [
    "3 * ma"
   ]
  },
  {
   "cell_type": "markdown",
   "id": "c8a2636d",
   "metadata": {},
   "source": [
    "Create another matrix, $B$, of the same  size as $A$ and compute the sume $A + B$:"
   ]
  },
  {
   "cell_type": "code",
   "execution_count": null,
   "id": "9360507b",
   "metadata": {},
   "outputs": [],
   "source": [
    "mb = Matrix([\n",
    "    Vector([1, 2, 3]),\n",
    "    Vector([4, 5, 6]),\n",
    "    Vector([0, 0, 0]),\n",
    "    Vector([7, 8, 9])\n",
    "])\n",
    "ma + mb"
   ]
  },
  {
   "cell_type": "markdown",
   "id": "e929d3b0",
   "metadata": {},
   "source": [
    "---\n",
    "**Exercises**\n",
    "\n",
    "1. What happens when you try and add a square $4 \\times 4$-matrix to the matrix `ma`? \n",
    "1. Add a method `__eq__` to both the `Vector` and the `Matrix` class, so that `v == w` returns `True` if vectors (or matrices) `v` and `w`\n",
    "have exactly the same entries in corresponding positions.\n",
    "\n",
    "\n",
    "---"
   ]
  },
  {
   "cell_type": "markdown",
   "id": "afc84f00",
   "metadata": {},
   "source": [
    "## Task 3. `Tensor`, a common parent class"
   ]
  },
  {
   "cell_type": "markdown",
   "id": "131fcb8c",
   "metadata": {},
   "source": [
    "There is a lot of similarity between `Vector` and `Matrix`.  Moving common code into a common parent class, `Tensor`, can avoid a lot of repetition. "
   ]
  },
  {
   "cell_type": "code",
   "execution_count": null,
   "id": "86284097",
   "metadata": {},
   "outputs": [],
   "source": [
    "class Tensor:\n",
    "    \"\"\"a blueprint class for vectors and matrices\"\"\"\n",
    "\n",
    "    # constructor\n",
    "    def __init__(self, data):\n",
    "        self.data = data\n",
    "\n",
    "   # list like behaviour\n",
    "    def __len__(self):\n",
    "        return len(self.data)\n",
    "\n",
    "    def __iter__(self):\n",
    "        return iter(self.data)\n",
    "\n",
    "    def __getitem__(self, i):\n",
    "        return self.data[i]\n",
    "\n",
    "class Vector(Tensor):\n",
    "    def __repr__(self):\n",
    "        return f\"Vector({self.data})\"\n",
    "    \n",
    "    def __add__(self, other):\n",
    "        assert len(self) == len(other), \"length mismatch\"\n",
    "        return Vector([x + y for x, y in zip(self, other)])\n",
    "    \n",
    "    def __rmul__(self, other):\n",
    "        return Vector([other * x for x in self])\n",
    "    \n",
    "class Matrix(Tensor):\n",
    "    def __repr__(self):\n",
    "        return f\"Matrix({self.data})\"\n",
    "    \n",
    "    def __add__(self, other):\n",
    "        assert len(self) == len(other), \"length mismatch\"\n",
    "        return Matrix([x + y for x, y in zip(self, other)])\n",
    "    \n",
    "    def __rmul__(self, other):\n",
    "        return Matrix([other * x for x in self])"
   ]
  },
  {
   "cell_type": "markdown",
   "id": "2689e741",
   "metadata": {},
   "source": [
    "Check that all works as before:"
   ]
  },
  {
   "cell_type": "code",
   "execution_count": null,
   "id": "eb81ffdf",
   "metadata": {},
   "outputs": [],
   "source": [
    "ma = Matrix([Vector([1, 0, 1]), Vector([2, 1, 1]), Vector([0, 1, 1]), Vector([1, 1, 2])])\n",
    "mb = Matrix([Vector([1, 2, 3]), Vector([4, 5, 6]), Vector([0, 0, 0]), Vector([7, 8, 9])])\n",
    "print(3 * ma)\n",
    "print(ma + mb)"
   ]
  },
  {
   "cell_type": "markdown",
   "id": "eb27668f",
   "metadata": {},
   "source": [
    "---\n",
    "**Exercises**\n",
    "\n",
    "1. Reformulate `__eq__` as a method in the `Tensor` class, so that it does the right thing for both `Vector` and `Matrix`.\n",
    "2. What happens now if you try and add a square $4 \\times 4$-matrix to `ma`?\n",
    "\n",
    "---"
   ]
  },
  {
   "cell_type": "markdown",
   "id": "08a0273f",
   "metadata": {},
   "source": [
    "## Task 4. Types"
   ]
  },
  {
   "cell_type": "markdown",
   "id": "a1005fe9",
   "metadata": {},
   "source": [
    "Each Python object has a **type**.  We can get the type of object `obj` by calling\n",
    "```python\n",
    "   type(obj)\n",
    "```\n",
    "If `obj` is an integer then its type is `int`.\n",
    "If `obj` is an instance of a class `C` then its type is `C`.\n",
    "The type `t` itself is an object, with attributes and behaviour. E.g.,\n",
    "```python\n",
    "   t.__name__\n",
    "```\n",
    "is the name of type `t`, as a string.  And `t` can be called, like a function, for type conversion, or in the case of a class, to create new objects."
   ]
  },
  {
   "cell_type": "code",
   "execution_count": null,
   "id": "ce9d1b4f",
   "metadata": {},
   "outputs": [],
   "source": [
    "t = type(3)\n",
    "print(t)\n",
    "print(t(3.14))"
   ]
  },
  {
   "cell_type": "markdown",
   "id": "b72466fa",
   "metadata": {},
   "source": [
    "We can use this kind of introspection in the `Vector` and `Matrix` classes to avoid even more repetition.  \n",
    "More precisely, in the parent class `Tensor`, we can define a common method\n",
    "```python\n",
    "    def __repr__(self):\n",
    "        return f\"{type(self).__name__}({self.data})\"\n",
    "```\n",
    "for the string representation, which works for both `Vector` and `Matrix`.  And we can define common methods for addition and scalar multiplication, like:\n",
    "```python\n",
    "    def __rmul__(self, other):\n",
    "        return type(self)([other * x for x in self])\n",
    "```\n",
    "The simplified class hierarchy then looks as follows."
   ]
  },
  {
   "cell_type": "code",
   "execution_count": null,
   "id": "b9c2301b",
   "metadata": {},
   "outputs": [],
   "source": [
    "class Tensor:\n",
    "    \"\"\"a blueprint class for vectors and matrices\"\"\"\n",
    "\n",
    "    # constructor\n",
    "    def __init__(self, data):\n",
    "        self.data = data\n",
    "\n",
    "   # list like behaviour\n",
    "    def __len__(self):\n",
    "        return len(self.data)\n",
    "\n",
    "    def __iter__(self):\n",
    "        return iter(self.data)\n",
    "\n",
    "    def __getitem__(self, i):\n",
    "        return self.data[i]\n",
    "\n",
    "    def __repr__(self):\n",
    "        return f\"{type(self).__name__}({self.data})\"\n",
    "    \n",
    "    def __add__(self, other):\n",
    "        assert len(self) == len(other), \"length mismatch\"\n",
    "        return type(self)([x + y for x, y in zip(self, other)])\n",
    "    \n",
    "    def __rmul__(self, other):\n",
    "        return type(self)([other * x for x in self])\n",
    "\n",
    "class Vector(Tensor):\n",
    "    pass\n",
    "\n",
    "class Matrix(Tensor):\n",
    "    pass"
   ]
  },
  {
   "cell_type": "markdown",
   "id": "85c35a58",
   "metadata": {},
   "source": [
    "Here, `pass` is Python's \"do nothing\" command.  Except for the type there is currently no difference between `Vector` and `Matrix` ..."
   ]
  },
  {
   "cell_type": "code",
   "execution_count": null,
   "id": "bd782e9b",
   "metadata": {},
   "outputs": [],
   "source": [
    "ma = Matrix([Vector([1, 0, 1]), Vector([2, 1, 1]), Vector([0, 1, 1]), Vector([1, 1, 2])])\n",
    "mb = Matrix([Vector([1, 2, 3]), Vector([4, 5, 6]), Vector([0, 0, 0]), Vector([7, 8, 9])])\n",
    "print(3 * ma)\n",
    "print(ma + mb)"
   ]
  },
  {
   "cell_type": "markdown",
   "id": "7e8ec447",
   "metadata": {},
   "source": [
    "We'll add the `dot` method to `Vector` and a transpose method to `Matrix` next."
   ]
  },
  {
   "cell_type": "markdown",
   "id": "e44d82a2",
   "metadata": {},
   "source": [
    "---\n",
    "**Exercises**\n",
    "\n",
    "1. The \"dot product\" of two vectors $v$ and $w$ of the same length is the number $v.w = \\sum_i v_i w_i$, i.e., the sum pof the products of corresponding entries in $v$ and $w$.  Write a method `dot(self, other)` that computes this number.\n",
    "\n",
    "1. Which other methods can you imagine that would apply only to vectors, or only to matrices?\n",
    "\n",
    "---"
   ]
  },
  {
   "cell_type": "markdown",
   "id": "570b954d",
   "metadata": {},
   "source": [
    "## Task 5.  List unpacking"
   ]
  },
  {
   "cell_type": "markdown",
   "id": "2a1bae33",
   "metadata": {},
   "source": [
    "Some functions, like `print`, expect and handle an arbitrary number of arguments: the command\n",
    "```python\n",
    "print(\"a\", \"b\", \"c\")\n",
    "```\n",
    "will print the letters `a`, `b` and `c`, separated by spaces.  But:"
   ]
  },
  {
   "cell_type": "code",
   "execution_count": null,
   "id": "a166a352",
   "metadata": {},
   "outputs": [],
   "source": [
    "l = [\"a\", \"b\", \"c\"]\n",
    "print(l)"
   ]
  },
  {
   "cell_type": "markdown",
   "id": "54ce6225",
   "metadata": {},
   "source": [
    "has a different effect.  To get the letters printed as before, you'd need to get rid of the brackets around `\"a\", \"b\", \"c\"` ...\n",
    "That's exactly what the **list unpacking operator** `*` does, like so:"
   ]
  },
  {
   "cell_type": "code",
   "execution_count": null,
   "id": "b488d841",
   "metadata": {},
   "outputs": [],
   "source": [
    "print(*l)"
   ]
  },
  {
   "cell_type": "markdown",
   "id": "0642ef8b",
   "metadata": {},
   "source": [
    "`zip` is another example of such a function."
   ]
  },
  {
   "cell_type": "code",
   "execution_count": null,
   "id": "a7c988bc",
   "metadata": {},
   "outputs": [],
   "source": [
    "print(list(zip(l)))\n",
    "print(list(zip(*l)))"
   ]
  },
  {
   "cell_type": "markdown",
   "id": "a2200e17",
   "metadata": {},
   "source": [
    "The **transpose**  $A^T$ of a matrix $A$ has the columns of $A$ as its rows. E.g.,\n",
    "$$\n",
    " A = \\left[\n",
    "  \\begin{array}{ccc}\n",
    "  1 & 0 & 1 \\\\\n",
    "  2 & 1 & 1 \\\\\n",
    "  0 & 1 & 1 \\\\\n",
    "  1 & 1 & 2\n",
    "  \\end{array}\n",
    "  \\right],\\qquad\n",
    "  A^T = \\left[\n",
    "  \\begin{array}{ccc}\n",
    "  1 & 2 & 0 & 1 \\\\\n",
    "  0 & 1 & 1 & 1 \\\\\n",
    "  1 & 1 & 1 & 2\n",
    "  \\end{array}\n",
    "  \\right].\n",
    "$$"
   ]
  },
  {
   "cell_type": "markdown",
   "id": "ddca8670",
   "metadata": {},
   "source": [
    "In principle, `zip` applied to the rows of $A$ yields the columns of $A$.\n",
    "So we can use `zip` to compute the transpose $A^T$.\n",
    "But for this to work, we need to provide the rows of $A$ as individual arguments to `zip`.\n",
    "Luckily, list unpacking works for `Vector` and `Matrix` objects."
   ]
  },
  {
   "cell_type": "code",
   "execution_count": null,
   "id": "66ceaf72",
   "metadata": {},
   "outputs": [],
   "source": [
    "print(*ma)"
   ]
  },
  {
   "cell_type": "code",
   "execution_count": null,
   "id": "1231e1bf",
   "metadata": {},
   "outputs": [],
   "source": [
    "for row in ma:\n",
    "    print(*row)"
   ]
  },
  {
   "cell_type": "markdown",
   "id": "e0aa47b3",
   "metadata": {},
   "source": [
    "Here is a function `transpose` that computes the transpose $A^T$ of a matrix $A$, using `zip` with list unpacking."
   ]
  },
  {
   "cell_type": "code",
   "execution_count": null,
   "id": "d94155ae",
   "metadata": {},
   "outputs": [],
   "source": [
    "def transpose(matrix):\n",
    "    return Matrix([Vector(x) for x in zip(*matrix)])"
   ]
  },
  {
   "cell_type": "code",
   "execution_count": null,
   "id": "11c94ff7",
   "metadata": {},
   "outputs": [],
   "source": [
    "mt = transpose(ma)\n",
    "for row in mt:\n",
    "    print(*row)"
   ]
  },
  {
   "cell_type": "markdown",
   "id": "6edefdf0",
   "metadata": {},
   "source": [
    "---\n",
    "**Exercises**\n",
    "\n",
    "1. A kind of opposite to list unpacking is the `*args` convention in function definition headers that allows us to **define* functions with arbitrarily many arguments.\n",
    "Look up its documentation.\n",
    "\n",
    "2. Can an `*args` argument in the `Vector` initialization be used to create vector objects as `v = Vector(1, 2, 3)`, i.e. without the square brackets?\n",
    "\n",
    "3. If vectors are created in this way, would it make list unpacking necessary in other places?\n",
    "\n",
    "---"
   ]
  },
  {
   "cell_type": "markdown",
   "id": "52ac6ae4",
   "metadata": {},
   "source": [
    "## Task 6. Decorators"
   ]
  },
  {
   "cell_type": "markdown",
   "id": "316fd4c4",
   "metadata": {},
   "source": [
    "Rather than a **function** `transpose`, we'd like to have a **method**, `T` say, for computing the transpose of `ma` as `ma.T()`.\n",
    "This we can define, inside the class `Matrix`, as follows:\n",
    "```python\n",
    "    def T(self):\n",
    "        return Matrix([Vector(x) for x in zip(*self)])\n",
    "```\n",
    "But, given that the transpose of a matrix can be seen as an attribute of the matrix, it would feel more natural to simply use `ma.T` (without the pair of parentheses) for the transpose of `ma`.  This can be achieved by using a decorator like this:\n",
    "```python\n",
    "    @property\n",
    "    def T(self):\n",
    "        return Matrix([Vector(x) for x in zip(*self)])\n",
    "```\n",
    "There are other decorators that can be used to modify the bahaviour of a function. We might see some examples later.\n",
    "\n",
    "For now, here is the final version of the `Tensor` class hierarchy, with a `dot` method for dot products of `Vector`s and a property `T` for `Matrix` objects."
   ]
  },
  {
   "cell_type": "code",
   "execution_count": null,
   "id": "0722e4db",
   "metadata": {},
   "outputs": [],
   "source": [
    "class Vector(Tensor):\n",
    "    def dot(self, other):  # v . v\n",
    "        assert len(self) == len(other), \"length mismatch\"\n",
    "        return sum(x * y for x, y in zip(self, other))\n",
    "\n",
    "class Matrix(Tensor):\n",
    "    @property\n",
    "    def T(self):\n",
    "        return Matrix([Vector(x) for x in zip(*self)])"
   ]
  },
  {
   "cell_type": "markdown",
   "id": "0b5e06ef",
   "metadata": {},
   "source": [
    "With this we can compute dot products of vectors and matrix transposes."
   ]
  },
  {
   "cell_type": "code",
   "execution_count": null,
   "id": "a610968c",
   "metadata": {},
   "outputs": [],
   "source": [
    "ma = Matrix([Vector([1, 0, 1]), Vector([2, 1, 1]), Vector([0, 1, 1]), Vector([1, 1, 2])])\n",
    "v, w = ma[:2]\n",
    "print(v, w)\n",
    "print(v.dot(w))\n",
    "print(ma.T)"
   ]
  },
  {
   "cell_type": "markdown",
   "id": "e0255051",
   "metadata": {},
   "source": [
    "---\n",
    "**Exercises**\n",
    "\n",
    "1. Using the `dot` methods of the `Vector` class, define a **property** `squared_length` that returns the dot product $v.v$ of a vector $v$ with itself.\n",
    "\n",
    "2. Write a `__matmul__(self, other)` method for the `Vector` class that uses the `dot` method and the `T` property to compute the product $v \\cdot m$ of\n",
    "a vector $v$ and a matrix $m$.  Which Python operator gets overloaded by `__matmul__`?\n",
    "\n",
    "3. Write a `__matmul__`(self, other)` method for the `Matrix` class that refers to the method of the same name in the `Vector` class, to compute tha product $AB$ of two matrices $A$ and $B$ of suitable shapes.\n",
    "---"
   ]
  },
  {
   "cell_type": "markdown",
   "id": "c56e741a",
   "metadata": {},
   "source": [
    "## Task 7. Files, Modules, `import`"
   ]
  },
  {
   "cell_type": "markdown",
   "id": "93b09b73",
   "metadata": {},
   "source": [
    "Writing the code for `Tensor`, `Vector` and `Matrix` into a file, say `tensor.py` makes this file a Python **module** named `tensor`.\n",
    "\n",
    "In a new Python session, notebook or module, we don't need to type this code again, but can simply import the module, or elements from it, with commands like\n",
    "```python\n",
    "    import tensor\n",
    "    from tensor import Tensor, Vector, Matrix\n",
    "    from tensor import *\n",
    "```\n",
    "With the first version, the `Vector` class is known as `tensor.Vector` in the session.  With the other versions, it can be used as `Vector`."
   ]
  },
  {
   "cell_type": "code",
   "execution_count": null,
   "id": "2ab1e1ab",
   "metadata": {},
   "outputs": [],
   "source": [
    "from tensor import *\n",
    "v = Vector([1,2,3])\n",
    "v"
   ]
  },
  {
   "cell_type": "markdown",
   "id": "d44530f4",
   "metadata": {},
   "source": [
    "---\n",
    "**Exercises**\n",
    "\n",
    "1. Write the people hierachy of `Person`, `Student` and `Teacher` into a file `people.py`.\n",
    "\n",
    "2. How would you load thes class definitions into a new Python session?\n",
    "---"
   ]
  },
  {
   "cell_type": "markdown",
   "id": "75bddd33",
   "metadata": {},
   "source": [
    "## Summary\n",
    "\n",
    "In this notebook, you explored how to build richer, more flexible systems using **advanced object-oriented programming (OOP)** concepts:\n",
    "\n",
    "* You learned how **inheritance** allows one class to extend another, reducing repetition and improving maintainability.\n",
    "* You saw how **method overriding** enables subclasses to modify or extend inherited behaviour to suit specialised needs.\n",
    "* You encountered **polymorphism**, where different objects can respond to the same operation in context-appropriate ways.\n",
    "* You learned about further useful Python concepts, like **types**, **list unpacking**, **decorators** and **modules**. \n",
    "\n",
    "Together, these techniques let you organise complex problems — such as vector spaces, portfolios, or physical systems — into coherent, modular structures.\n"
   ]
  },
  {
   "cell_type": "markdown",
   "id": "105c68d7",
   "metadata": {},
   "source": []
  }
 ],
 "metadata": {
  "kernelspec": {
   "display_name": "Python 3",
   "language": "python",
   "name": "python3"
  },
  "language_info": {
   "codemirror_mode": {
    "name": "ipython",
    "version": 3
   },
   "file_extension": ".py",
   "mimetype": "text/x-python",
   "name": "python",
   "nbconvert_exporter": "python",
   "pygments_lexer": "ipython3",
   "version": "3.12.3"
  }
 },
 "nbformat": 4,
 "nbformat_minor": 5
}
