{
 "cells": [
  {
   "cell_type": "markdown",
   "id": "8adb7344",
   "metadata": {},
   "source": [
    "### Programming for Science and Finance\n",
    "\n",
    "*Prof. Götz Pfeiffer, School of Mathematical and Statistical Sciences, University of Galway*"
   ]
  },
  {
   "cell_type": "markdown",
   "id": "0e1b094f",
   "metadata": {},
   "source": [
    "\n",
    "\n",
    "# Notebook 1: Programming Foundations for Science and Finance\n",
    "\n",
    "This notebook accompanies **Part I**. You will:\n",
    "- Use Python as a calculator.\n",
    "- Understand variables and assignment.\n",
    "- Wrap up simple programs as re-usable functions with parameters.\n",
    "- Apply conditionals and loops to control program flow.\n",
    "- Write and test simple Python code for scientific and financial contexts."
   ]
  },
  {
   "cell_type": "markdown",
   "id": "73b10733",
   "metadata": {},
   "source": [
    "## Task 1: Python as Calculator\n",
    "\n",
    "Enter the following code and run it. Observe what happens."
   ]
  },
  {
   "cell_type": "code",
   "execution_count": null,
   "id": "bbcdf289",
   "metadata": {},
   "outputs": [],
   "source": [
    "2 + 2"
   ]
  },
  {
   "cell_type": "code",
   "execution_count": null,
   "id": "7f97d8d0",
   "metadata": {},
   "outputs": [],
   "source": [
    "3 * 7"
   ]
  },
  {
   "cell_type": "code",
   "execution_count": null,
   "id": "57fd1796",
   "metadata": {},
   "outputs": [],
   "source": [
    "100 / 3"
   ]
  },
  {
   "cell_type": "markdown",
   "id": "cd6d8e42",
   "metadata": {},
   "source": [
    "**Question:** What is the difference between `/` and `//` in Python?"
   ]
  },
  {
   "cell_type": "code",
   "execution_count": null,
   "id": "71e5b761",
   "metadata": {},
   "outputs": [],
   "source": [
    "100 // 3   # Try it here"
   ]
  },
  {
   "cell_type": "markdown",
   "id": "36ce6355",
   "metadata": {},
   "source": [
    "---\n",
    "\n",
    "**Exercises**\n",
    "\n",
    "1. Compute the value of $2^{10}$.\n",
    "2. Convert 100 °C to Fahrenheit.\n",
    "   (Formula: $F = 9/5 \\cdot C + 32$)\n",
    "3. How many seconds are there in a 365-day year?\n",
    "\n",
    "---\n"
   ]
  },
  {
   "cell_type": "markdown",
   "id": "84f50c26",
   "metadata": {},
   "source": [
    "## Task 2: Variables, Values and Types.\n",
    "\n",
    "Python stores **values** in **variables**.  This process is called **assignment**."
   ]
  },
  {
   "cell_type": "code",
   "execution_count": null,
   "id": "f616e90a",
   "metadata": {},
   "outputs": [],
   "source": [
    "principal = 1234    #  EUR 1234.- \n",
    "rate = 0.05         #  5%\n",
    "time = 3            # 3 years"
   ]
  },
  {
   "cell_type": "markdown",
   "id": "6f794c32",
   "metadata": {},
   "source": [
    "* All text after the `#` symbol counts as **comment**, not code.\n",
    "* Choosing **descriptive names** helps people to read your code."
   ]
  },
  {
   "cell_type": "code",
   "execution_count": null,
   "id": "2322dc27",
   "metadata": {},
   "outputs": [],
   "source": [
    "mass = 2.0      # kg\n",
    "velocity = 4.0  # m/s"
   ]
  },
  {
   "cell_type": "markdown",
   "id": "6ff17ea4",
   "metadata": {},
   "source": [
    "In the REPL, type `print(mass)` or simply `mass` to see the value of `mass"
   ]
  },
  {
   "cell_type": "code",
   "execution_count": null,
   "id": "17334cc9",
   "metadata": {},
   "outputs": [],
   "source": [
    "print(mass)"
   ]
  },
  {
   "cell_type": "code",
   "execution_count": null,
   "id": "3f098efc",
   "metadata": {},
   "outputs": [],
   "source": [
    "mass"
   ]
  },
  {
   "cell_type": "markdown",
   "id": "c51fa74b",
   "metadata": {},
   "source": [
    "Values have **types**, variables don't."
   ]
  },
  {
   "cell_type": "code",
   "execution_count": null,
   "id": "51be8237",
   "metadata": {},
   "outputs": [],
   "source": [
    "x = 10    # int\n",
    "y = 3.14  # float\n",
    "name = \"John\"  # string"
   ]
  },
  {
   "cell_type": "markdown",
   "id": "6a601ee6",
   "metadata": {},
   "source": [
    "In the REPL, type `type(x)` to see the type of `x`."
   ]
  },
  {
   "cell_type": "code",
   "execution_count": null,
   "id": "48cce74b",
   "metadata": {},
   "outputs": [],
   "source": [
    "type(x), type(y), type(name)"
   ]
  },
  {
   "cell_type": "markdown",
   "id": "4aa755fa",
   "metadata": {},
   "source": [
    "## Task 3:  Arithmetic, Expressions.\n",
    "\n",
    "Python support standard math operations and more.\n",
    "\n",
    "An **expression** is a valid combination of values, variables and operators that represents a new value."
   ]
  },
  {
   "cell_type": "code",
   "execution_count": null,
   "id": "35911f35",
   "metadata": {},
   "outputs": [],
   "source": [
    "2 + 3   # 5\n",
    "2 * 3   # 6\n",
    "14 / 4  # 3.5\n",
    "14 // 4 # 3 (integer quotient)\n",
    "14 % 4  # 2 (remainder: 14 is 3 * 4 + 2)\n",
    "2 ** 3  # 8 (power)"
   ]
  },
  {
   "cell_type": "markdown",
   "id": "95c6f536",
   "metadata": {},
   "source": [
    "Types matter in expressions:  the sum of two `int` values is a value of type `int`"
   ]
  },
  {
   "cell_type": "code",
   "execution_count": null,
   "id": "bab84d28",
   "metadata": {},
   "outputs": [],
   "source": [
    "2.0 + 3.0"
   ]
  },
  {
   "cell_type": "markdown",
   "id": "31e75232",
   "metadata": {},
   "source": [
    "**Example:** Compound Interest.  Formula: $A = P(1+r)^t$."
   ]
  },
  {
   "cell_type": "code",
   "execution_count": null,
   "id": "91a99085",
   "metadata": {},
   "outputs": [],
   "source": [
    "P = 1234.00\n",
    "r = 0.05\n",
    "t = 3\n",
    "A = P * (1 + r) ** t\n",
    "print(A)"
   ]
  },
  {
   "cell_type": "markdown",
   "id": "bbb78b5d",
   "metadata": {},
   "source": [
    "**Example:** Kinetic Energy.  Formula: $E = \\frac12 m v^2$."
   ]
  },
  {
   "cell_type": "code",
   "execution_count": null,
   "id": "21a3b3a4",
   "metadata": {},
   "outputs": [],
   "source": [
    "m = 2.0\n",
    "v = 4.0\n",
    "E = 1/2 * m * v**2\n",
    "print(\"Energy:\", E)"
   ]
  },
  {
   "cell_type": "markdown",
   "id": "e0685a0c",
   "metadata": {},
   "source": [
    "Here the power $v**2$ is evaluated before the product, just like you would read the original formula.  This is an example of the **operator precedence** rules in python."
   ]
  },
  {
   "cell_type": "markdown",
   "id": "4eb267d6",
   "metadata": {},
   "source": [
    "---\n",
    "**Exercises**\n",
    "\n",
    "1. Store your age in a variable `age` and compute the number of months.\n",
    "2. Assign values to `a = 3`, `b = 7`, then compute $a^2 + b^2$.\n",
    "3. Write code that swaps the values of two variables `x` and `y`.\n",
    "\n",
    "---\n"
   ]
  },
  {
   "cell_type": "markdown",
   "id": "74b319d5",
   "metadata": {},
   "source": [
    "## Task 4: Programs and Functions\n",
    "\n",
    "A **program** is a list of instructions, usually executed step by step."
   ]
  },
  {
   "cell_type": "markdown",
   "id": "9dce0b54",
   "metadata": {},
   "source": [
    "**Example:** Investment Growth.  Formula: $A = P (1 +r)^t$, as before."
   ]
  },
  {
   "cell_type": "code",
   "execution_count": null,
   "id": "7cb7a439",
   "metadata": {},
   "outputs": [],
   "source": [
    "P = 1234                                         # I\n",
    "r = 0.03                                         # I \n",
    "t = 5                                            # I \n",
    "A = P * (1 + r)**t                               # P\n",
    "print(\"After\", t, \"years, the value is EUR\", A)  # O"
   ]
  },
  {
   "cell_type": "markdown",
   "id": "a93fb695",
   "metadata": {},
   "source": [
    "This program consists of 3 parts, marked as `I` (Input), `P` (Process), `O` (Output)."
   ]
  },
  {
   "cell_type": "markdown",
   "id": "1bcc74b7",
   "metadata": {},
   "source": [
    "Some functions, like the exponential function `exp()`, are defined in the `math` standard library.  This library needs to be imported before such a function can be used."
   ]
  },
  {
   "cell_type": "markdown",
   "id": "2bfae014",
   "metadata": {},
   "source": [
    "**Example:** Population Growth.  Formula: $P(t) = P_0 e^{rt}$."
   ]
  },
  {
   "cell_type": "code",
   "execution_count": null,
   "id": "9b819592",
   "metadata": {},
   "outputs": [],
   "source": [
    "import math\n",
    "\n",
    "P0 = 100                                     # I\n",
    "r = 0.2                                      # I  \n",
    "t = 10                                       # I\n",
    "P = P0 * math.exp(r * t)                     # P\n",
    "print(\"Population after\", t, \"years is\", P)  # O"
   ]
  },
  {
   "cell_type": "markdown",
   "id": "67d000c3",
   "metadata": {},
   "source": [
    "This program, too, has three parts: `I`, `P` and `O`."
   ]
  },
  {
   "cell_type": "markdown",
   "id": "2cc6d316",
   "metadata": {},
   "source": [
    "## Functions.\n",
    "\n",
    "A **function** is **named** piece of reusable code with **input parameters** and a **return statement** for output.\n",
    "\n",
    "A **function definition statement** has the general form (syntax):\n",
    "\n",
    "```python\n",
    "def function_name(parameters):\n",
    "    function_body\n",
    "    return result\n",
    "```"
   ]
  },
  {
   "cell_type": "markdown",
   "id": "20b4695b",
   "metadata": {},
   "source": [
    "So it consists of \n",
    "* a **header** line\n",
    "    * starting with a **keyword** (`def`),\n",
    "    * followed by the **name** given to the function,\n",
    "    * the comma separated list of **parameters**, enclosed in parentheses `()`,\n",
    "    * ending in a **colon** (`:`)\n",
    "* and a **body** of \n",
    "    * a list of **statements**\n",
    "    * including a **return** statement at the end\n",
    "    * all indented by the same amount of significant whitespace.\n"
   ]
  },
  {
   "cell_type": "markdown",
   "id": "7cbf473e",
   "metadata": {},
   "source": [
    "**Example:** the square function $f(x) = x^2$."
   ]
  },
  {
   "cell_type": "code",
   "execution_count": null,
   "id": "50d52ec5",
   "metadata": {},
   "outputs": [],
   "source": [
    "def square(x):\n",
    "    x2 = x * x\n",
    "    return x2"
   ]
  },
  {
   "cell_type": "markdown",
   "id": "2ce315a5",
   "metadata": {},
   "source": [
    "... or simply ..."
   ]
  },
  {
   "cell_type": "code",
   "execution_count": null,
   "id": "c947970b",
   "metadata": {},
   "outputs": [],
   "source": [
    "def square(x):\n",
    "    return x * x"
   ]
  },
  {
   "cell_type": "markdown",
   "id": "2bd68a09",
   "metadata": {},
   "source": [
    "**Example:** Future Value $A = P (1 + r)^t$"
   ]
  },
  {
   "cell_type": "code",
   "execution_count": null,
   "id": "0028b789",
   "metadata": {},
   "outputs": [],
   "source": [
    "def future_value(P, r, t):\n",
    "    A = P * (1 + r)**t\n",
    "    return A"
   ]
  },
  {
   "cell_type": "markdown",
   "id": "2b3dcda3",
   "metadata": {},
   "source": [
    "**Example:** Kinetic Energy $E = \\frac12 m v^2$."
   ]
  },
  {
   "cell_type": "code",
   "execution_count": null,
   "id": "a452ea42",
   "metadata": {},
   "outputs": [],
   "source": [
    "def kineticEnergy(mass, velocity):\n",
    "    energy = 1/2 * m * v**2\n",
    "    return energy"
   ]
  },
  {
   "cell_type": "markdown",
   "id": "e1d7e337",
   "metadata": {},
   "source": [
    "A **function call expression** has the form `function_name(arguments)`, i.e.,\n",
    "* the function's **name** followed by\n",
    "* a comma separated list of **arguments**, matching and serving as values for the parameters of the function's definition."
   ]
  },
  {
   "cell_type": "code",
   "execution_count": null,
   "id": "2fbf0f22",
   "metadata": {},
   "outputs": [],
   "source": [
    "square(5)"
   ]
  },
  {
   "cell_type": "code",
   "execution_count": null,
   "id": "e91232f6",
   "metadata": {},
   "outputs": [],
   "source": [
    "future_value(1234, 0.03, 5)"
   ]
  },
  {
   "cell_type": "code",
   "execution_count": null,
   "id": "524eabdb",
   "metadata": {},
   "outputs": [],
   "source": [
    "kineticEnergy(3.0, 4.0)"
   ]
  },
  {
   "cell_type": "markdown",
   "id": "b091fb57",
   "metadata": {},
   "source": [
    "---\n",
    "**Exercises**\n",
    "\n",
    "1. Write a function `cube(x)` that returns $x^3$. Test it with 2, 5, and 10.\n",
    "2. Write a function `convert(celsius)` that returns the Fahrenheit equivalent.  Test it with 20, 30 and 100 degrees Celsius.\n",
    "3. Write a function `compound(principal, rate, periods)` that computes simple compounding interest. Test it with EUR 500 at 3.5% over 10 years.\n",
    "\n",
    "---\n"
   ]
  },
  {
   "cell_type": "markdown",
   "id": "cec3bd77",
   "metadata": {},
   "source": [
    "## Flow of Control"
   ]
  },
  {
   "cell_type": "markdown",
   "id": "8db168c3",
   "metadata": {},
   "source": [
    "Sometimes sequential execution of the instructions in a program needs to be modified.  Real world problems require **decisions** (branching) and **repetition** (loops).\n",
    "\n",
    "In Science, you might want to simulate a particle until a given boundary is crossed.\n",
    "\n",
    "In Finance, you might want to rebalance a portfolio only if today's return is negative."
   ]
  },
  {
   "cell_type": "markdown",
   "id": "b90fce0a",
   "metadata": {},
   "source": [
    "## Task 5.  Boolean Logic and Comparisons.\n",
    "\n",
    "The **boolean values** `True` and `False` allows us to ask questions inside the code."
   ]
  },
  {
   "cell_type": "code",
   "execution_count": null,
   "id": "766f4a4f",
   "metadata": {},
   "outputs": [],
   "source": [
    "type(True), type(False)"
   ]
  },
  {
   "cell_type": "markdown",
   "id": "7772f6fd",
   "metadata": {},
   "source": [
    "There are a number of **comparison operators** that result in either `True` or `False`."
   ]
  },
  {
   "cell_type": "code",
   "execution_count": null,
   "id": "4a1f7093",
   "metadata": {},
   "outputs": [],
   "source": [
    "5 > 3         # True\n",
    "5 < 3         # False\n",
    "5 >= 3\n",
    "5 <= 3\n",
    "5 == 3        # False (equals!)\n",
    "5 != 3        # True (not equals)"
   ]
  },
  {
   "cell_type": "markdown",
   "id": "2096a92d",
   "metadata": {},
   "source": [
    "They can be combined with **logical operators**."
   ]
  },
  {
   "cell_type": "code",
   "execution_count": null,
   "id": "6f5acb32",
   "metadata": {},
   "outputs": [],
   "source": [
    "x = 5\n",
    "(x > 0) and (x < 10)   # True\n",
    "(x < 0) or (x > 10)    # False\n",
    "not (x == 5)           # False"
   ]
  },
  {
   "cell_type": "markdown",
   "id": "c6409d66",
   "metadata": {},
   "source": [
    "## Task 6. Conditionals ...\n",
    "\n",
    "... aka `if` statements.  Conditionals allow us to conditionally execute parts of the code."
   ]
  },
  {
   "cell_type": "markdown",
   "id": "43fe4af3",
   "metadata": {},
   "source": [
    "**Example:** Revenue Classifier."
   ]
  },
  {
   "cell_type": "code",
   "execution_count": null,
   "id": "2c4358ce",
   "metadata": {},
   "outputs": [],
   "source": [
    "def revenue_class(revenue):\n",
    "    if revenue < 0:\n",
    "        result = \"Loss\"\n",
    "    elif revenue > 0:\n",
    "        result = \"Profit\"\n",
    "    else:\n",
    "        result = \"Break Even\"\n",
    "    return result"
   ]
  },
  {
   "cell_type": "code",
   "execution_count": null,
   "id": "cafb5b0b",
   "metadata": {},
   "outputs": [],
   "source": [
    "revenue_class(-5)"
   ]
  },
  {
   "cell_type": "markdown",
   "id": "078804f0",
   "metadata": {},
   "source": [
    "An `if` statement is kind of **compound statement**. It consists of \n",
    "* possibly more than one **header** lines, each\n",
    "    * starting with a keyword (`if`, `elif` or `else`) and\n",
    "    * ending with a colon (`:`)\n",
    "* each followed by a **body** of one or more statements.\n",
    "\n",
    "The first header is always the `if` clause.\n",
    "\n",
    "Then there can be zero or more `elif` clauses, as needed.\n",
    "\n",
    "And finally there can be on `else` clause.\n",
    "\n",
    "The `if` clause and the `elif` clauses all have conditions attached.  Only the body under the first condition that is met will be executed, with the body of the `else` clause as default in case that none of the conditions is met."
   ]
  },
  {
   "cell_type": "markdown",
   "id": "a009ef9b",
   "metadata": {},
   "source": [
    "---\n",
    "**Exercises**\n",
    "\n",
    "1. Write code that prints “even” if a number `n` is even, and “odd” otherwise.\n",
    "2. Store a temperature in Celsius and print whether water would be “solid”, “liquid”, or “gas” at that temperature.\n",
    "3. A bank gives a bonus if a balance exceeds €10,000. Write a conditional to add €100 if the balance qualifies.\n",
    "---"
   ]
  },
  {
   "cell_type": "markdown",
   "id": "a56e2321",
   "metadata": {},
   "source": [
    "## Loops (Repetition)"
   ]
  },
  {
   "cell_type": "markdown",
   "id": "aa08412d",
   "metadata": {},
   "source": [
    "Loop statements are used to execute the same part of the code several times.\n",
    "\n",
    "Python support two kinds of loops, **definite** and **indefinite** loops."
   ]
  },
  {
   "cell_type": "markdown",
   "id": "4036429f",
   "metadata": {},
   "source": [
    "## Task 7.  Definite Loops ...\n",
    "\n",
    "... aka `for` loops.\n",
    "\n",
    "Repeat code a given number of times."
   ]
  },
  {
   "cell_type": "code",
   "execution_count": null,
   "id": "c2f25aea",
   "metadata": {},
   "outputs": [],
   "source": [
    "for i in range(5):\n",
    "    print(\"Step\", i)"
   ]
  },
  {
   "cell_type": "markdown",
   "id": "e5c5b7c3",
   "metadata": {},
   "source": [
    "Here `range(5)` represents the list `0,1,2,3,4` of numbers, excluding `5`."
   ]
  },
  {
   "cell_type": "markdown",
   "id": "59df8462",
   "metadata": {},
   "source": [
    "A `for` loop statement consist of \n",
    "* a **header** line\n",
    "    * starting with a keywoprd (`for`)\n",
    "    * followed by a loop variable (`i`)\n",
    "    * the keyword `in` and\n",
    "    * a **list** of values (`range(5)`)\n",
    "    * ending with a colon (`:`)\n",
    "* followed by a **body** of one or more statements.\n",
    "\n",
    "The body of instructions is executed once for each value in the given list, assigned to the loop variable for temporary use.\n"
   ]
  },
  {
   "cell_type": "markdown",
   "id": "b2783ae3",
   "metadata": {},
   "source": [
    "**Example:** Compound Interest, Year by Year."
   ]
  },
  {
   "cell_type": "code",
   "execution_count": null,
   "id": "c65bc98d",
   "metadata": {},
   "outputs": [],
   "source": [
    "def compound_interest(P, r, t):\n",
    "    for year in range(1, t+1):\n",
    "        P = P * (1 + r)\n",
    "        print(\"Year\", year, \":\", round(P, 2))"
   ]
  },
  {
   "cell_type": "code",
   "execution_count": null,
   "id": "1d3cd5ec",
   "metadata": {},
   "outputs": [],
   "source": [
    "compound_interest(1234, 0.03, 5)"
   ]
  },
  {
   "cell_type": "markdown",
   "id": "f250cd02",
   "metadata": {},
   "source": [
    "## Task 8.  Indefinite Loops ...\n",
    "\n",
    "... aka `while` loops.\n",
    "\n",
    "Repeat code until some condition fails."
   ]
  },
  {
   "cell_type": "markdown",
   "id": "1abc28c3",
   "metadata": {},
   "source": [
    "General Form (syntax):\n",
    "\n",
    "```python\n",
    "while condition:\n",
    "    body\n",
    "```\n",
    "\n",
    "A `while` statement consists of\n",
    "* a **header** line that\n",
    "    * starts with a keyword (`while`)\n",
    "    * followed by a condition (a boolean expression)\n",
    "    * and ends with a colon (`:`)\n",
    "* and a **body** of one or more statements.\n",
    "\n",
    "The body of statements is executed over and over until the condition is no longer `True`."
   ]
  },
  {
   "cell_type": "markdown",
   "id": "25c79976",
   "metadata": {},
   "source": [
    "**Example:** How long does it take for an investment to double in value?"
   ]
  },
  {
   "cell_type": "code",
   "execution_count": null,
   "id": "7b897356",
   "metadata": {},
   "outputs": [],
   "source": [
    "P = 1234\n",
    "r = 0.04\n",
    "t = 0\n",
    "A = P\n",
    "while A < 2*P:\n",
    "    A *= 1+r\n",
    "    t += 1\n",
    "print(\"doubling time:\", t, \"years\")"
   ]
  },
  {
   "cell_type": "markdown",
   "id": "5de44c9d",
   "metadata": {},
   "source": [
    "... or simply"
   ]
  },
  {
   "cell_type": "code",
   "execution_count": null,
   "id": "6cd1fe5a",
   "metadata": {},
   "outputs": [
    {
     "name": "stdout",
     "output_type": "stream",
     "text": [
      "doubling time: 18 years\n"
     ]
    }
   ],
   "source": [
    "r = 0.04\n",
    "t = 0\n",
    "A = 1\n",
    "while A < 2:\n",
    "    A *= 1+r\n",
    "    t += 1\n",
    "print(\"doubling time:\", t, \"years\")"
   ]
  },
  {
   "cell_type": "markdown",
   "id": "3ff42956",
   "metadata": {},
   "source": [
    "**Exercise:** convert this re-usable program into a function."
   ]
  },
  {
   "cell_type": "markdown",
   "id": "71b634c7",
   "metadata": {},
   "source": [
    "**Fun Fact.**  By the [Rule of 72](https://en.wikipedia.org/wiki/Rule_of_72), the doubling time at rate $r$% is roughly $72/r$.  Check: $72/4$ is $18$. ✅\n",
    "(The exact formula would be $t = \\ln(2)/\\ln(1 +r)$.)"
   ]
  },
  {
   "cell_type": "markdown",
   "id": "d79d4340",
   "metadata": {},
   "source": [
    "**Example:** Bacterial Growth up to a given Threshold."
   ]
  },
  {
   "cell_type": "code",
   "execution_count": null,
   "id": "eef9a1de",
   "metadata": {},
   "outputs": [],
   "source": [
    "N = 100\n",
    "r = 0.1\n",
    "t = 0\n",
    "while N < 10000:\n",
    "    N *= 1 + r\n",
    "    t += 1\n",
    "print(\"Population exceeds 10,000 after\", t, \"time steps\")"
   ]
  },
  {
   "cell_type": "markdown",
   "id": "fc98af1c",
   "metadata": {},
   "source": [
    "**Exercise:** convert this re-usable program into a function."
   ]
  },
  {
   "cell_type": "markdown",
   "id": "c33c7c7b",
   "metadata": {},
   "source": [
    "---\n",
    "**Exercises**\n",
    "\n",
    "1. Print the numbers from 1 to 10 using a `for` loop.\n",
    "2. Use a `while` loop to compute the sum of numbers from 1 to 100.\n",
    "3. Write a loop that prints the square of each integer from 1 to 20.\n",
    "\n",
    "---\n"
   ]
  },
  {
   "cell_type": "markdown",
   "id": "dc829caf",
   "metadata": {},
   "source": [
    "##  Task 9. Errors and Debugging\n",
    "\n",
    "Even experienced programmers make mistakes! Python will often give you feedback in the form of **error messages**. Learning to **read and interpret** error messages is an important skill."
   ]
  },
  {
   "cell_type": "markdown",
   "id": "b0ed301f",
   "metadata": {},
   "source": [
    "### Common Pitfalls\n",
    "\n",
    "* Mixing up `==` (equals) and `=` (assignment).\n",
    "\n",
    "* Off-by-one errors in `range(m, n)`.  This list has `n-m` elements, starting at `m` and thus does not include `n`.\n",
    "\n",
    "* Infinite loops, due to a condition that never fails, like:\n",
    "  ```python\n",
    "  V = 1\n",
    "  while V < 2*V:\n",
    "      V += 1\n",
    "  ```"
   ]
  },
  {
   "cell_type": "markdown",
   "id": "c8d6ff84",
   "metadata": {},
   "source": [
    "###  Common Types of Errors\n",
    "\n",
    "1. **Syntax Errors** – mistakes in the structure of the code.\n",
    "\n",
    "   ```python\n",
    "   if x = 5   # ❌ invalid syntax\n",
    "       print(\"x is 5\")\n",
    "   ```\n",
    "\n",
    "   Correct:\n",
    "\n",
    "   ```python\n",
    "   if x == 5:  # ✅\n",
    "       print(\"x is 5\")\n",
    "   ```\n",
    "\n",
    "2. **Runtime Errors** – occur when the code runs into something impossible.\n",
    "\n",
    "   ```python\n",
    "   print(10 / 0)  # ❌ ZeroDivisionError\n",
    "   ```\n",
    "\n",
    "3. **Name Errors** – using variables that don’t exist.\n",
    "\n",
    "   ```python\n",
    "   print(myVar)  # ❌ NameError: name 'myVar' is not defined\n",
    "   ```\n",
    "\n",
    "4. **Type Errors** – mixing incompatible types.\n",
    "\n",
    "   ```python\n",
    "   \"abc\" + 5  # ❌ TypeError\n",
    "   ```\n",
    "\n",
    "\n"
   ]
  },
  {
   "cell_type": "markdown",
   "id": "e9328233",
   "metadata": {},
   "source": [
    "### Debugging Strategies\n",
    "\n",
    "* **Read the error message carefully** – Python usually tells you both the error type and the line number.\n",
    "\n",
    "* **Use print statements** (or better, a debugger) to check variable values.\n",
    "\n",
    "* **Test incrementally** – build code step by step instead of writing everything at once.\n",
    "\n",
    "* **Google the error message** – most likely, someone else has had the same issue.\n"
   ]
  },
  {
   "cell_type": "markdown",
   "id": "01a17ca1",
   "metadata": {},
   "source": [
    "---\n",
    "\n",
    "**Exercises**\n",
    "\n",
    "1. Run the following code and note the error:\n",
    "\n",
    "   ```python\n",
    "   10 / 0\n",
    "   ```\n",
    "\n",
    "   What error type do you see?\n",
    "\n",
    "2. Try this:\n",
    "\n",
    "   ```python\n",
    "   if x = 3:\n",
    "       print(\"Hello\")\n",
    "   ```\n",
    "\n",
    "   What does Python complain about? How do you fix it?\n",
    "\n",
    "3. Introduce a deliberate typo (like `pritn(\"Hello\")`). What happens? How do you correct it?\n",
    "\n",
    "---\n"
   ]
  },
  {
   "cell_type": "markdown",
   "id": "8dbbe9a0",
   "metadata": {},
   "source": [
    "## Summary\n",
    "\n",
    "This notebook covers some **foundations of Python programming** that we will build on throughout the course:\n",
    "\n",
    "- Using Python as a **calculator** for arithmetic and formulas.  \n",
    "- Working with **variables** and **values to store and manipulate data of different **types**.\n",
    "- Combining operations into **expressions** and reusable **functions**.  \n",
    "- Applying **boolean logic** and **conditionals** to make decisions.  \n",
    "- Using **loops** (`for`, `while`) to repeat tasks efficiently.  \n",
    "- Recognizing and fixing common **errors** with simple **debugging strategies**.\n"
   ]
  }
 ],
 "metadata": {
  "kernelspec": {
   "display_name": "Python 3",
   "language": "python",
   "name": "python3"
  },
  "language_info": {
   "codemirror_mode": {
    "name": "ipython",
    "version": 3
   },
   "file_extension": ".py",
   "mimetype": "text/x-python",
   "name": "python",
   "nbconvert_exporter": "python",
   "pygments_lexer": "ipython3",
   "version": "3.12.3"
  }
 },
 "nbformat": 4,
 "nbformat_minor": 5
}
