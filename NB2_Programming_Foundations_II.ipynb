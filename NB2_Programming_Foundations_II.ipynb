{
 "cells": [
  {
   "cell_type": "markdown",
   "id": "8adb7344",
   "metadata": {},
   "source": [
    "### Programming for Science and Finance\n",
    "\n",
    "*Prof. Götz Pfeiffer, School of Mathematical and Statistical Sciences, University of Galway*"
   ]
  },
  {
   "cell_type": "markdown",
   "id": "0e1b094f",
   "metadata": {},
   "source": [
    "# Notebook 2: Programming Foundations for Science and Finance II\n",
    "\n",
    "This notebook accompanies **Part I**. You will:\n",
    "\n",
    "* review and extend your understanding of **Python data structures**, focusing on lists, tuples, sets, and dictionaries;\n",
    "* learn how to create, modify, and iterate over these structures efficiently;\n",
    "* explore the difference between **mutable** and **immutable** types and why it matters in program design;\n",
    "* use **list and dictionary comprehensions** as concise and expressive alternatives to loops and conditionals;\n",
    "* practice nesting and combining data structures to represent more complex information;\n",
    "* and build confidence in choosing the *right* data type for a given scientific or financial problem.\n",
    "\n",
    "By the end of this notebook, you will write cleaner, faster, and more expressive Python code — preparing you for object-oriented programming and numerical computation in the next stage of the course."
   ]
  },
  {
   "cell_type": "markdown",
   "id": "b5e1e6f2",
   "metadata": {},
   "source": [
    "##  Why Data Structures?\n",
    "\n",
    "* Real problems involve **many data points**, not just one.\n",
    "* Science → record temperatures every hour, simulate thousands of particles.\n",
    "* Finance → track daily stock prices, manage portfolios of assets.\n",
    "* Data structures allow us to **store, access, and manipulate groups of values efficiently**."
   ]
  },
  {
   "cell_type": "markdown",
   "id": "977874b2",
   "metadata": {},
   "source": [
    "## Task 1. Lists (Dynamic)"
   ]
  },
  {
   "cell_type": "markdown",
   "id": "be393388",
   "metadata": {},
   "source": [
    "### Creating and Accessing Lists"
   ]
  },
  {
   "cell_type": "code",
   "execution_count": null,
   "id": "dd67ff84",
   "metadata": {},
   "outputs": [],
   "source": [
    "prices = [100, 102, 105, 103]\n",
    "print(prices[0])   # 100\n",
    "print(prices[-1])  # 103"
   ]
  },
  {
   "cell_type": "markdown",
   "id": "3f4e6449",
   "metadata": {},
   "source": [
    "### Adding and Removing Elements"
   ]
  },
  {
   "cell_type": "code",
   "execution_count": null,
   "id": "349ceb87",
   "metadata": {},
   "outputs": [],
   "source": [
    "prices.append(110)    # add at end\n",
    "print(prices)         # [100, 102, 105, 103, 110]"
   ]
  },
  {
   "cell_type": "code",
   "execution_count": null,
   "id": "24bb0647",
   "metadata": {},
   "outputs": [],
   "source": [
    "prices.remove(102)    # remove by value\n",
    "print(prices)         # [100, 105, 103, 110]"
   ]
  },
  {
   "cell_type": "markdown",
   "id": "0a4e076b",
   "metadata": {},
   "source": [
    "### Iterating Through Lists"
   ]
  },
  {
   "cell_type": "code",
   "execution_count": null,
   "id": "82c65c09",
   "metadata": {},
   "outputs": [],
   "source": [
    "for p in prices:\n",
    "    print(\"Price:\", p)"
   ]
  },
  {
   "cell_type": "markdown",
   "id": "3c8c06ab",
   "metadata": {},
   "source": [
    "---\n",
    "**Exercises** \n",
    "\n",
    "1. Write a function `moving_average(data, window)` that returns the list of moving averages of length `window` from a list of numbers, as in\n",
    "   ```python\n",
    "   moving_average([1, 2, 3, 4, 5], 3)  # [2.0, 3.0, 4.0]\n",
    "   ```\n",
    "1. Create a list of the first 12 monthly returns of a stock (e.g. `0.01`, `0.03`, `-0.02`, …).\n",
    "   Then compute the total annual return by summing them.\n",
    "2. Write a function `second_largest(numbers)` that returns the second-largest element, e.g., in a list of exam scores.\n",
    "3. Given `temperatures = [14.2, 15.1, 16.3, 18.5, 21.0]`, extract all temperatures above 16.\n",
    "---"
   ]
  },
  {
   "cell_type": "markdown",
   "id": "cc1da5f5",
   "metadata": {},
   "source": [
    "## Task 2: List Comprehensions\n",
    "\n",
    "A compact syntax for making new lists from old.\n",
    "\n",
    "General Form (Syntax):\n",
    "\n",
    "```python\n",
    "[expression for item in list if condition]\n",
    "```\n",
    "\n",
    "Squares, for example:"
   ]
  },
  {
   "cell_type": "code",
   "execution_count": null,
   "id": "82b55ba6",
   "metadata": {},
   "outputs": [],
   "source": [
    "squares = [ x**2 for x in range(10) ]\n",
    "print(squares)"
   ]
  },
  {
   "cell_type": "markdown",
   "id": "d4bc7cf0",
   "metadata": {},
   "source": [
    "Or, even squares only:"
   ]
  },
  {
   "cell_type": "code",
   "execution_count": null,
   "id": "f2034a49",
   "metadata": {},
   "outputs": [],
   "source": [
    "[ x**2 for x in range(10) if x % 2 == 0 ]"
   ]
  },
  {
   "cell_type": "markdown",
   "id": "b64697a4",
   "metadata": {},
   "source": [
    "loop equivalent:"
   ]
  },
  {
   "cell_type": "code",
   "execution_count": null,
   "id": "e1faedcb",
   "metadata": {},
   "outputs": [],
   "source": [
    "squares = []\n",
    "for x in range(10):\n",
    "    if x % 2 == 0:\n",
    "        squares.append(x ** 2)\n",
    "print(squares)"
   ]
  },
  {
   "cell_type": "markdown",
   "id": "a7656e25",
   "metadata": {},
   "source": [
    "---\n",
    "**Exercises**\n",
    "\n",
    "1. Use list comprehension to generate the cubes of numbers from 1 to 10.\n",
    "2. From the list `stocks = [\"AAPL\", \"MSFT\", \"TSLA\", \"AMZN\"]`, create a new list of tickers that contain the letter `\"A\"`.\n",
    "3. Generate a list of `(n, n²)` pairs for `n` from 1 to 10.\n",
    "3. Given `temperatures = [14.2, 15.1, 16.3, 18.5, 21.0]`, use list comprehension to extract all temperatures above 16.\n",
    "---"
   ]
  },
  {
   "cell_type": "markdown",
   "id": "3cf23ef2",
   "metadata": {},
   "source": [
    "## Task 3.  Dictionaries\n",
    "\n",
    "Different tasks need different data structures.   Sometimes, a collection of key-value pairs is preferable over a list of indexed data.\n",
    "\n",
    "In python, **dictionary** is the compound data structure for key-value pairs."
   ]
  },
  {
   "cell_type": "markdown",
   "id": "b02f9396",
   "metadata": {},
   "source": [
    "### Creating a dictionary, accessing values\n",
    "\n",
    "Dictionary entries have the general form `key : value`.  A dictionary can be specified as a comma separated list of such pairs, enclosed in curly braces.  A value in a dictionary can be accessed through its key (as opposed to its position in a list)."
   ]
  },
  {
   "cell_type": "code",
   "execution_count": null,
   "id": "a31f9564",
   "metadata": {},
   "outputs": [],
   "source": [
    "prices = { \"AAPL\": 150, \"GOOG\": 2800, \"TSLA\": 700 }\n",
    "prices"
   ]
  },
  {
   "cell_type": "code",
   "execution_count": null,
   "id": "30cda1d5",
   "metadata": {},
   "outputs": [],
   "source": [
    "prices[\"AAPL\"]"
   ]
  },
  {
   "cell_type": "markdown",
   "id": "6618567a",
   "metadata": {},
   "source": [
    "###  Adding and updating values\n",
    "\n",
    "Index notation can also be used to add or update values in a dictionary."
   ]
  },
  {
   "cell_type": "code",
   "execution_count": null,
   "id": "6f13ae05",
   "metadata": {},
   "outputs": [],
   "source": [
    "prices[\"AMZN\"] = 3300\n",
    "prices[\"AAPL\"] = 155\n",
    "print(prices)"
   ]
  },
  {
   "cell_type": "markdown",
   "id": "01ebd8f4",
   "metadata": {},
   "source": [
    "### Loops over dictionaries\n",
    "\n",
    "A `for` loop over a dictionary will loop over the keys of the dictionary.  There are methods (`items`, `keys`, `values`, ...) that make the content of a dictionary available in other ways."
   ]
  },
  {
   "cell_type": "code",
   "execution_count": null,
   "id": "8f6d3aa0",
   "metadata": {},
   "outputs": [],
   "source": [
    "for key in prices:\n",
    "    print(key, \"=>\", prices[key])"
   ]
  },
  {
   "cell_type": "code",
   "execution_count": null,
   "id": "56d6f22f",
   "metadata": {},
   "outputs": [],
   "source": [
    "for key, value in prices.items():\n",
    "    print(key, \": \", value)"
   ]
  },
  {
   "cell_type": "code",
   "execution_count": null,
   "id": "8ab40982",
   "metadata": {},
   "outputs": [],
   "source": [
    "print(prices.keys())\n",
    "print(prices.values())"
   ]
  },
  {
   "cell_type": "markdown",
   "id": "b8ff1be6",
   "metadata": {},
   "source": [
    "**Example:**  Determine the value of a portfolio from two dictionaries, one containing today's prices, and one containing numbers of shares.\n",
    "\n",
    "```python\n",
    "prices =  { \"AAPL\": 150, \"GOOG\": 2800, \"TSLA\": 700 }\n",
    "portfolio =  { \"TSLA\": 5, \"GOOG\": 10, \"AAPL\": 50 }\n",
    "```"
   ]
  },
  {
   "cell_type": "code",
   "execution_count": null,
   "id": "af8b48ea",
   "metadata": {},
   "outputs": [],
   "source": [
    "prices =  { \"AAPL\": 150, \"GOOG\": 2800, \"TSLA\": 700 }\n",
    "portfolio =  { \"TSLA\": 5, \"GOOG\": 10, \"AAPL\": 50 }\n",
    "value = 0\n",
    "for key in prices:\n",
    "    value += prices[key] * portfolio[key]\n",
    "value"
   ]
  },
  {
   "cell_type": "markdown",
   "id": "4940e833",
   "metadata": {},
   "source": [
    "Or, using list comprehension:"
   ]
  },
  {
   "cell_type": "code",
   "execution_count": null,
   "id": "248fb394",
   "metadata": {},
   "outputs": [],
   "source": [
    "sum(prices[key] * portfolio[key] for key in prices)"
   ]
  },
  {
   "cell_type": "markdown",
   "id": "68bc6b24",
   "metadata": {},
   "source": [
    "---\n",
    "**Exercises**\n",
    "\n",
    "1. Create a dictionary mapping currency codes to exchange rates (e.g. `\"USD\": 1.0, \"EUR\": 0.93, \"JPY\": 140`).\n",
    "2. Given `grades = {\"Alice\": 85, \"Bob\": 78, \"Eve\": 92}`, add a new student and update Bob’s grade.\n",
    "3. Write code that prints the stock with the highest price in\n",
    "   ```python\n",
    "   prices = {\"AAPL\": 172.5, \"TSLA\": 260.2, \"MSFT\": 299.1}\n",
    "   ```\n",
    "\n",
    "4. What is the result of the statement `squares = {x: x**2 for x in range(1, 11)}`?\n",
    "5. From `squares`, build a new dictionary containing only the odd keys, and whose values are replaced by their square roots.\n",
    "6. Given a dictionary of countries and their capitals,\n",
    "   ```python\n",
    "   capitals = {'France': 'Paris', 'Spain': 'Madrid', 'Italy': 'Rome', 'Ireland' : 'Dublin' }\n",
    "   ```\n",
    "   create a new dictionary that maps the capitals to their countries.\n",
    "7. Use a dictionary (with single letters as keys) to count the frequency of each letter in the phrase\n",
    "   ```python\n",
    "   \"programming for science and finance\"\n",
    "   ```\n",
    "---"
   ]
  },
  {
   "cell_type": "markdown",
   "id": "7a852619",
   "metadata": {},
   "source": [
    "## Task 4. Sets and Tuples"
   ]
  },
  {
   "cell_type": "markdown",
   "id": "183f7893",
   "metadata": {},
   "source": [
    "In python, a **set** is an unordered collection of data, containing each element at most once."
   ]
  },
  {
   "cell_type": "code",
   "execution_count": null,
   "id": "5d5f7971",
   "metadata": {},
   "outputs": [],
   "source": [
    "letters = { 'b', 'a', 'n', 'a', 'n', 'a' }\n",
    "letters"
   ]
  },
  {
   "cell_type": "code",
   "execution_count": null,
   "id": "0987679f",
   "metadata": {},
   "outputs": [],
   "source": [
    "print('a' in letters)\n",
    "print('c' in letters)"
   ]
  },
  {
   "cell_type": "markdown",
   "id": "d790a0e0",
   "metadata": {},
   "source": [
    "Accessing set elements by index is not possible.  The expression\n",
    "\n",
    "```python\n",
    "letters[0]  # don't do this\n",
    "```\n",
    "will result in an error message."
   ]
  },
  {
   "cell_type": "markdown",
   "id": "fa1001c9",
   "metadata": {},
   "source": [
    "A **tuple**, like a list, is an ordered collection of data which, unlike a list, is **immutable**."
   ]
  },
  {
   "cell_type": "code",
   "execution_count": null,
   "id": "d8f62307",
   "metadata": {},
   "outputs": [],
   "source": [
    "point = (-1, 3)  # x, y - coordinates\n",
    "print(point)\n",
    "print(point[0], \", \", point[1])"
   ]
  },
  {
   "cell_type": "markdown",
   "id": "0c3c3315",
   "metadata": {},
   "source": [
    "The components of a tuple can be accessed by index, but updating a component is not possible, the expression\n",
    "```python\n",
    "point[0] = 2  # don't do this\n",
    "```\n",
    "will result in an error message."
   ]
  },
  {
   "cell_type": "markdown",
   "id": "b1c481ff",
   "metadata": {},
   "source": [
    "---\n",
    "**Exercises**\n",
    "\n",
    "1. Given a list of clients with duplicates, e.g. `[\"Alice\", \"Bob\", \"Alice\", \"Eve\"]`, turn it into a set of unique clients.\n",
    "2. Given `evens = {2, 4, 6, 8}` and `odds = {1, 3, 5, 7}`, compute their union and intersection.\n",
    "3. Given `point = (3, 4)`, calculate the Euclidean distance $\\sqrt{x^2 + y^2}$ from the origin using tuple unpacking.\n",
    "---"
   ]
  },
  {
   "cell_type": "markdown",
   "id": "da70ff75",
   "metadata": {},
   "source": [
    "## Task 5. Comprehension, again"
   ]
  },
  {
   "cell_type": "markdown",
   "id": "066f4833",
   "metadata": {},
   "source": [
    "The analogue of list comprehension for other compound data structures works just as you would expect.  **Dictionary comprehension**, for example:"
   ]
  },
  {
   "cell_type": "code",
   "execution_count": null,
   "id": "4fde3fd2",
   "metadata": {},
   "outputs": [],
   "source": [
    "fruits = { 'apple', 'banana', 'cherry' }\n",
    "{ word : len(word) for word in fruits if word[0] < 'c' }"
   ]
  },
  {
   "cell_type": "markdown",
   "id": "921cdc20",
   "metadata": {},
   "source": [
    "**Set comprehension**, for example:"
   ]
  },
  {
   "cell_type": "code",
   "execution_count": null,
   "id": "12c1d6db",
   "metadata": {},
   "outputs": [],
   "source": [
    "{ c for word in fruits for c in word }"
   ]
  },
  {
   "cell_type": "markdown",
   "id": "d4c33dbb",
   "metadata": {},
   "source": [
    "Note the order of the `for` loops in the above example.  The expression\n",
    "```python\n",
    "{ c for c in word for word in fruits }  ## don't do this\n",
    "```\n",
    "will result in an error message.  Why?"
   ]
  },
  {
   "cell_type": "markdown",
   "id": "b4e74271",
   "metadata": {},
   "source": [
    "---\n",
    "**Exercises**\n",
    "\n",
    "1. Use a dictionary comprehension to swap keys and values in `{\"a\": 1, \"b\": 2, \"c\": 3}`.\n",
    "2. From `returns = [0.01, -0.02, 0.03, 0.05, -0.01]`, create a set of all positive returns using a set comprehension.\n",
    "3. Create a dictionary mapping each particle in `[\"proton\", \"neutron\", \"electron\"]` to its electric charge.\n",
    "---"
   ]
  },
  {
   "cell_type": "markdown",
   "id": "b66788a7",
   "metadata": {},
   "source": [
    "## Summary\n",
    "\n",
    "This notebook explores Python’s **core data structures**:\n",
    "\n",
    "* **Lists**: ordered, mutable collections — useful for **sequences of data**.\n",
    "* List **Comprehensions**: a concise way to create and **transform lists**.\n",
    "* **Dictionaries**: key–value pairs — ideal for lookups, mappings, and **structured records**.\n",
    "* **Sets**: unordered collections of unique elements — useful for **membership tests** and deduplication.\n",
    "* **Tuples**: immutable sequences — often used for **fixed records** or as dictionary keys.\n",
    "\n",
    "Together, these structures form the backbone of data handling in Python.\n",
    "They allow us to organize, access, and manipulate information efficiently, whether in scientific simulations, financial models, or real-world datasets."
   ]
  },
  {
   "cell_type": "markdown",
   "id": "5a188b8a",
   "metadata": {},
   "source": []
  }
 ],
 "metadata": {
  "kernelspec": {
   "display_name": "Python 3",
   "language": "python",
   "name": "python3"
  },
  "language_info": {
   "codemirror_mode": {
    "name": "ipython",
    "version": 3
   },
   "file_extension": ".py",
   "mimetype": "text/x-python",
   "name": "python",
   "nbconvert_exporter": "python",
   "pygments_lexer": "ipython3",
   "version": "3.12.3"
  }
 },
 "nbformat": 4,
 "nbformat_minor": 5
}
