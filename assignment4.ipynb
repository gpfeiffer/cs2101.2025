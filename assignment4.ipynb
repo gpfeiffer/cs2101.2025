{
 "cells": [
  {
   "cell_type": "markdown",
   "metadata": {},
   "source": [
    "### CS2101 - Programming for Science and Finance\n",
    "Prof. Götz Pfeiffer<br />\n",
    "School of Mathematical and Statistical Sciences<br />\n",
    "University of Galway"
   ]
  },
  {
   "cell_type": "markdown",
   "metadata": {},
   "source": [
    "# Computer Lab 4"
   ]
  },
  {
   "cell_type": "markdown",
   "metadata": {},
   "source": [
    "Provide answers to the problems in the boxes provided.  Partial marks will be awarded for\n",
    "participation and engagement.\n",
    "\n",
    "**Important:** When finished, print this notebook into a **pdf** file and submit this pdf to\n",
    "**canvas**.  (Submissions in other formats will not be accepted.)\n",
    "\n",
    "**Deadline** is next Monday at 5pm."
   ]
  },
  {
   "cell_type": "markdown",
   "metadata": {},
   "source": [
    "## Setup"
   ]
  },
  {
   "cell_type": "markdown",
   "metadata": {},
   "source": [
    "This is a `jupyter` notebook.   You can open and interact\n",
    "with the notebook through one of sites recommended at\n",
    "its [github repository](https://github.com/gpfeiffer/cs2101.2025).\n",
    "\n",
    "Or, you can\n",
    "install and use `jupyter` as a `python` package on your own laptop or PC.  "
   ]
  },
  {
   "cell_type": "markdown",
   "metadata": {},
   "source": [
    "* First, import some packages"
   ]
  },
  {
   "cell_type": "code",
   "execution_count": null,
   "metadata": {},
   "outputs": [],
   "source": [
    "import numpy as np\n",
    "from PIL import Image"
   ]
  },
  {
   "cell_type": "markdown",
   "metadata": {},
   "source": [
    "## 0. Image Manipulation"
   ]
  },
  {
   "cell_type": "markdown",
   "metadata": {},
   "source": [
    "* We'll use a sample image to allow you to test the functions that you write. \n",
    "(The image is created by Stephen \"Redshrike\" Challener as graphic artist and William.Thompsonj as contributor, and is released under a Creative Commons CC-BY 4.0 License. It is a 64x64 pixel image.)"
   ]
  },
  {
   "cell_type": "code",
   "execution_count": null,
   "metadata": {},
   "outputs": [],
   "source": [
    "pic = np.array(Image.open('images/long_walk.png'))\n",
    "Image.fromarray(pic)"
   ]
  },
  {
   "cell_type": "markdown",
   "metadata": {},
   "source": [
    "## 1. Inverting an image\n",
    "\n",
    "* The first task is to write a function `invert` that takes a value $i$ of type `uint8`and returns $255- i$.\n",
    "* If we apply this to a colour intensity it will invert the intensity: zero intensity becomes full intensity and vice versa. "
   ]
  },
  {
   "cell_type": "code",
   "execution_count": null,
   "metadata": {},
   "outputs": [],
   "source": [
    "def invert(i):\n",
    "    ## your code goes here"
   ]
  },
  {
   "cell_type": "markdown",
   "metadata": {},
   "source": [
    "* Test on a value of type `np.uint8`:"
   ]
  },
  {
   "cell_type": "code",
   "execution_count": null,
   "metadata": {},
   "outputs": [],
   "source": [
    "invert(np.uint8(100))"
   ]
  },
  {
   "cell_type": "markdown",
   "metadata": {},
   "source": [
    "* Next you can use the function `invert` to invert all the colour channels of an image."
   ]
  },
  {
   "cell_type": "code",
   "execution_count": null,
   "metadata": {},
   "outputs": [],
   "source": [
    "def invert_image(im):\n",
    "    ## your code goes here"
   ]
  },
  {
   "cell_type": "code",
   "execution_count": null,
   "metadata": {},
   "outputs": [],
   "source": [
    "Image.fromarray(invert_image(pic))"
   ]
  },
  {
   "cell_type": "markdown",
   "metadata": {},
   "source": [
    "## 2. Converting an Image to Greyscale\n",
    "\n",
    "* In this task you will write a function `greyscale` that takes an image and returns a greyscale version of it.\n",
    "* This is done by letting every pixel have an equal intensity of red, green, and blue in the greyscale.\n",
    "* That common intensity should be the **average** of the red, green, and blue in the original image."
   ]
  },
  {
   "cell_type": "code",
   "execution_count": null,
   "metadata": {},
   "outputs": [],
   "source": [
    "def average(rgb):\n",
    "     ## your code goes here"
   ]
  },
  {
   "cell_type": "code",
   "execution_count": null,
   "metadata": {},
   "outputs": [],
   "source": [
    "def greyscale(im):\n",
    "    ## your code goes here"
   ]
  },
  {
   "cell_type": "code",
   "execution_count": null,
   "metadata": {},
   "outputs": [],
   "source": [
    "Image.fromarray(greyscale(pic))"
   ]
  },
  {
   "cell_type": "markdown",
   "metadata": {},
   "source": [
    "## 3. Quantizing an image\n",
    "\n",
    "* If we use `uint8` as the type of the colour intensities, that means that there are $256^3 = 2^{24} = 16777216$ different colours that a pixel can have.\n",
    "* In this task, you'll write a function that reduces the quality of an image by grouping similar intensities together and giving them a common value."
   ]
  },
  {
   "cell_type": "markdown",
   "metadata": {},
   "source": [
    "### Quantizing a single value\n",
    "\n",
    "* Your first subtask is to write a function `quantize` that takes a `uint8` value and a parameter `bits` that determines how many different 'bins' of values we create.\n",
    "* For example: if `bits` has the value 6, there should be $2^6 = 64$ bins, and we let the values `0,1,2,3` be grouped together to give the result `0`, the values `4,5,6,7` should all return `4`, and so on.\n",
    "* If `bits` instead have the value `4`, there should be $2^4 = 16$ bins, and the values `0,1,...,15` should return `0`; the values `16,17,...,31` should all return `16` etc."
   ]
  },
  {
   "cell_type": "code",
   "execution_count": null,
   "metadata": {},
   "outputs": [],
   "source": [
    "def quantize(val, bits):\n",
    "    ## your code goes here"
   ]
  },
  {
   "cell_type": "markdown",
   "metadata": {},
   "source": [
    "* Test:"
   ]
  },
  {
   "cell_type": "code",
   "execution_count": null,
   "metadata": {},
   "outputs": [],
   "source": [
    "print(quantize(7, 4))\n",
    "print(quantize(17, 6))"
   ]
  },
  {
   "cell_type": "markdown",
   "metadata": {},
   "source": [
    "### Quantizing an image\n",
    "\n",
    "The next task is to write a function `quantize_image` that takes two arguments, the image to quantize, and again a `bits` parameter, that determines how coarsly we quantize the colours in the image."
   ]
  },
  {
   "cell_type": "code",
   "execution_count": null,
   "metadata": {},
   "outputs": [],
   "source": [
    "def quantize_image(im, bits):\n",
    "    ## your code goes here"
   ]
  },
  {
   "cell_type": "code",
   "execution_count": null,
   "metadata": {},
   "outputs": [],
   "source": [
    "Image.fromarray(quantize_image(pic, 2))"
   ]
  },
  {
   "cell_type": "markdown",
   "metadata": {},
   "source": [
    "## 4. Downsampling/Upsampling"
   ]
  },
  {
   "cell_type": "markdown",
   "metadata": {},
   "source": [
    "### Upsampling\n",
    "\n",
    "By upsampling in here we mean that we take an original image, and where each pixel is replaced by a $n \\times n$ block of pixels in the new image. Each pixel in the block is identical to the original pixel. "
   ]
  },
  {
   "cell_type": "code",
   "execution_count": null,
   "metadata": {},
   "outputs": [],
   "source": [
    "def upsample(im, n):\n",
    "    ## your code goes here"
   ]
  },
  {
   "cell_type": "code",
   "execution_count": null,
   "metadata": {},
   "outputs": [],
   "source": [
    "Image.fromarray(upsample(pic, 2))"
   ]
  },
  {
   "cell_type": "markdown",
   "metadata": {},
   "source": [
    "### Downsampling\n",
    "\n",
    "* When we downsample an image `im`, we divide the image into blocks of size $n \\times n$, and compute the average colour intensities in these blocks.\n",
    "* Each such block then gives rise to a single pixel in ther resulting image.\n",
    "* Note that first upsampling with a factor `n` and then downsampling with the same factor should return an image identical to the original.\n",
    "* Whereas first downsampling and then upsampling does not return an identical image."
   ]
  },
  {
   "cell_type": "code",
   "execution_count": null,
   "metadata": {},
   "outputs": [],
   "source": [
    "def downsample(im, n):\n",
    "    ## your code goes here"
   ]
  },
  {
   "cell_type": "code",
   "execution_count": null,
   "metadata": {},
   "outputs": [],
   "source": [
    "Image.fromarray(downsample(pic, 2))"
   ]
  },
  {
   "cell_type": "code",
   "execution_count": null,
   "metadata": {},
   "outputs": [],
   "source": [
    "Image.fromarray(upsample(downsample(pic, 4), 4))"
   ]
  },
  {
   "cell_type": "markdown",
   "metadata": {},
   "source": [
    "## 5. Noise\n",
    "\n",
    "* In this last part of the assignment, you will write a function `noisify` to add noise to an image.\n",
    "* By this we mean that we add a random number to each colour channel of each pixel.\n",
    "* The call `noisify(im, sigma)` should add a normally distributed random number with mean value 0 and standard deviation `sigma` to each entry in the array representing the image `im`.\n",
    "* Make sure that:\n",
    "  1. The result after adding is converted to a `uint8`.\n",
    "  2. The result is in the interval 0 to 255."
   ]
  },
  {
   "cell_type": "code",
   "execution_count": null,
   "metadata": {},
   "outputs": [],
   "source": [
    "import random\n",
    "def noisify(im, sigma):\n",
    "    ## your code goes here"
   ]
  },
  {
   "cell_type": "code",
   "execution_count": null,
   "metadata": {},
   "outputs": [],
   "source": [
    "Image.fromarray(noisify(pic, 32))"
   ]
  },
  {
   "cell_type": "markdown",
   "metadata": {},
   "source": [
    "##  Submit your work in PDF format!"
   ]
  },
  {
   "cell_type": "code",
   "execution_count": null,
   "metadata": {},
   "outputs": [],
   "source": []
  }
 ],
 "metadata": {
  "kernelspec": {
   "display_name": "Python 3",
   "language": "python",
   "name": "python3"
  },
  "language_info": {
   "codemirror_mode": {
    "name": "ipython",
    "version": 3
   },
   "file_extension": ".py",
   "mimetype": "text/x-python",
   "name": "python",
   "nbconvert_exporter": "python",
   "pygments_lexer": "ipython3",
   "version": "3.12.3"
  }
 },
 "nbformat": 4,
 "nbformat_minor": 4
}
