{
 "cells": [
  {
   "cell_type": "markdown",
   "id": "8adb7344",
   "metadata": {},
   "source": [
    "### Programming for Science and Finance\n",
    "\n",
    "*Prof. Götz Pfeiffer, School of Mathematical and Statistical Sciences, University of Galway*"
   ]
  },
  {
   "cell_type": "markdown",
   "id": "0e1b094f",
   "metadata": {},
   "source": [
    "# Notebook 3: Programming with Objects\n",
    "\n",
    "This notebook accompanies **Part I**. You will:\n",
    "\n",
    "* Understand the basic principles of **object-oriented programming (OOP)** in Python.\n",
    "* Learn how to **define your own classes** and create **objects (instances)** from them.\n",
    "* Discover how to add **attributes** (data) and **methods** (functions) that describe an object’s state and behaviour.\n",
    "* Practice **dunder (double underscore) methods** such as `__init__`, `__repr__`, and `__add__` to make your objects behave naturally with built-in Python operations.\n",
    "* See how OOP promotes **code reuse and modularity**, preparing you for larger scientific and data-driven applications."
   ]
  },
  {
   "cell_type": "markdown",
   "id": "b5e1e6f2",
   "metadata": {},
   "source": [
    "##  Why Objects?\n",
    "\n",
    "Large programs need bespoke data structures.  OOP allows us to bundle data (attributes) and behaviour (methods) into developer defined data types.\n",
    "\n",
    "As **examples**, we will develop, in a step by step fashion, a `Money` class for monetary values in a given currency, and a `Vector` class for homogeneous numerical data."
   ]
  },
  {
   "cell_type": "markdown",
   "id": "bb596c66",
   "metadata": {},
   "source": [
    "### Defining a class\n",
    "\n",
    "Class definitiona in python are easy.  The **general form** (syntax) of a class definition statement is\n",
    "```python\n",
    "class class_name:\n",
    "    body\n",
    "```\n",
    "Like any compound statement, it \n",
    "consists of a header and a `body` of statements, all indented by the same amount of spaces.\n",
    "The header, as usual, starts with a keyword (`class`) and ends with a colon(`:`), between those stands the chosen name for the class to be defined.\n",
    "The body is a list of statements, usually method definitions, which mostly look like function definition statements.  Let's see and discuss the details in the examples."
   ]
  },
  {
   "cell_type": "markdown",
   "id": "977874b2",
   "metadata": {},
   "source": [
    "## Task 1. A `Money` class and how to create its objects."
   ]
  },
  {
   "cell_type": "markdown",
   "id": "be393388",
   "metadata": {},
   "source": [
    "### Defining the class\n",
    "\n",
    "We want to work with `Money` objects that have two **attributes**:\n",
    "\n",
    "* `amount` - the monetary value of the object,\n",
    "* `currency` - a string that denotes the currency.\n",
    "\n",
    "As per the above description, the class definition can be as simple as"
   ]
  },
  {
   "cell_type": "code",
   "execution_count": null,
   "id": "fefaff6d",
   "metadata": {},
   "outputs": [],
   "source": [
    "class Money:\n",
    "    def __init__(self, amount, currency=\"EUR\"):\n",
    "        self.amount = amount\n",
    "        self.currency = currency"
   ]
  },
  {
   "cell_type": "markdown",
   "id": "a4e63f37",
   "metadata": {},
   "source": [
    "Here, the **body** of the class definition consists of a single method definition statement.\n",
    "\n",
    "The method, `__init__()`, is a **special method**, as indicated by the double underscore (`__`) at the start and the end of its name.\n",
    "It is used to create new objects of this class.\n",
    "\n",
    "The method has three **parameters**:\n",
    "\n",
    "* the first, by convention, is always called `self` - referring to the object in question, here the object being created.\n",
    "* `amount` - corresponds to the attribute `amount`,\n",
    "* `currency` - corresponds to the attribute `currency`, with **default value** `\"EUR\"`.\n",
    "\n",
    "When called, the method assigns the arguments given for `amount` and `currency` to the corresponding attributes."
   ]
  },
  {
   "cell_type": "markdown",
   "id": "f8fb3030",
   "metadata": {},
   "source": [
    "### Creating `Money` objects\n",
    "\n",
    "`Money` objects are created by **calling** the class, just as you would call a function:\n",
    "```python\n",
    "m = Money(amount, currency)\n",
    "```\n",
    "Then the `__init()__` method defined as part of the `Money` class will be used to do the actual work."
   ]
  },
  {
   "cell_type": "code",
   "execution_count": null,
   "id": "dcc9da1d",
   "metadata": {},
   "outputs": [],
   "source": [
    "a = Money(104, \"GBP\")\n",
    "b = Money(50.25)\n",
    "print(f\"{a.currency} {a.amount}\")\n",
    "print(f\"{b.currency} {b.amount}\")"
   ]
  },
  {
   "cell_type": "markdown",
   "id": "5f300ba4",
   "metadata": {},
   "source": [
    "---\n",
    "**Exercises**\n",
    "\n",
    "1. Create a second class `Currency` that stores a name (e.g. `\"EUR\"`, `\"USD\"`) and symbol (e.g. `\"$\"`) for each currency.\n",
    "2. How could you use `Currency` objects inside your `Money` class to optionally print `Money` objects using a currency symbol?\n",
    "3. Try adding a docstring (`\"\"\" ... \"\"\"`) to your `Money` class. What is it used for?\n",
    "\n",
    "---"
   ]
  },
  {
   "cell_type": "markdown",
   "id": "f1918199",
   "metadata": {},
   "source": [
    "## Task 2. Printing `Money` objects"
   ]
  },
  {
   "cell_type": "markdown",
   "id": "1dda8f31",
   "metadata": {},
   "source": [
    "If we try to print a `Money` object, we get almost illegible noise back:  "
   ]
  },
  {
   "cell_type": "code",
   "execution_count": null,
   "id": "80fdc53f",
   "metadata": {},
   "outputs": [],
   "source": [
    "print(a)\n",
    "b"
   ]
  },
  {
   "cell_type": "markdown",
   "id": "c12286b8",
   "metadata": {},
   "source": [
    "This behavior can be changed by implementing `__repr__`, another **special method** that takes care of representing an object nicely as a string.\n",
    "We might, for example, have a `Money` object print itself in exactly the same way as it was created."
   ]
  },
  {
   "cell_type": "code",
   "execution_count": null,
   "id": "17414649",
   "metadata": {},
   "outputs": [],
   "source": [
    "class Money:\n",
    "    def __init__(self, amount, currency=\"EUR\"):\n",
    "        self.amount = amount\n",
    "        self.currency = currency\n",
    "\n",
    "    def __repr__(self):\n",
    "        return f\"Money({self.amount}, {self.currency})\""
   ]
  },
  {
   "cell_type": "markdown",
   "id": "73f8c455",
   "metadata": {},
   "source": [
    "With this augmented class definition we get:"
   ]
  },
  {
   "cell_type": "code",
   "execution_count": null,
   "id": "9163bb3c",
   "metadata": {},
   "outputs": [],
   "source": [
    "a = Money(104, \"GBP\")\n",
    "b = Money(50.25)\n",
    "print(a)\n",
    "b"
   ]
  },
  {
   "cell_type": "markdown",
   "id": "1465a3d0",
   "metadata": {},
   "source": [
    "If, in addition, you want to be able to print these objects in **currency code** notation, we could define our **own method** `currency_code` which does this."
   ]
  },
  {
   "cell_type": "code",
   "execution_count": null,
   "id": "56d2aaeb",
   "metadata": {},
   "outputs": [],
   "source": [
    "class Money:\n",
    "    def __init__(self, amount, currency=\"EUR\"):\n",
    "        self.amount = amount\n",
    "        self.currency = currency\n",
    "\n",
    "    def __repr__(self):\n",
    "        return f\"Money({self.amount}, {self.currency})\"\n",
    "    \n",
    "    def currency_code(self):\n",
    "        return f\"{self.currency} {self.amount}\""
   ]
  },
  {
   "cell_type": "code",
   "execution_count": null,
   "id": "f52dbd14",
   "metadata": {},
   "outputs": [],
   "source": [
    "a = Money(104, \"GBP\")\n",
    "b = Money(50.25)\n",
    "print(a.currency_code())\n",
    "b.currency_code()"
   ]
  },
  {
   "cell_type": "markdown",
   "id": "15d9eef3",
   "metadata": {},
   "source": [
    "---\n",
    "**Exercises**\n",
    "\n",
    "1. Modify the `__repr__` method so that rounding always shows exactly two decimal places\n",
    "2. Implement a method `__str__` so that it returns the currency code of an object.\n",
    "3. What now is the difference between `print(m)` and just typing `m` in a cell, if `m`  is a `Money` object?\n",
    "---"
   ]
  },
  {
   "cell_type": "markdown",
   "id": "f2efe17d",
   "metadata": {},
   "source": [
    "## Task 3. Adding `Money` objects"
   ]
  },
  {
   "cell_type": "markdown",
   "id": "e0cbce02",
   "metadata": {},
   "source": [
    "The sum of two `Money` objects is a new `Money` object whose value is the sum of the values of the old `Money` objects, provided thay all have the same currency.\n",
    "We can implement such behavior for our `Money` class by defining the **special method** `__add__`.  \n",
    "It should have two `Money` objects as its parameters, `self` and `other`, say, and return a new `Money` object according to the rules just outlined."
   ]
  },
  {
   "cell_type": "code",
   "execution_count": null,
   "id": "3562e7d8",
   "metadata": {},
   "outputs": [],
   "source": [
    "class Money:\n",
    "    def __init__(self, amount, currency=\"EUR\"):\n",
    "        self.amount = amount\n",
    "        self.currency = currency\n",
    "\n",
    "    def __repr__(self):\n",
    "        return f\"Money({self.amount}, {self.currency})\"\n",
    "    \n",
    "    def currency_code(self):\n",
    "        return f\"{self.currency} {self.amount}\"\n",
    "    \n",
    "    def __add__(self, other):\n",
    "        assert self.currency == other.currency, \"currency mismatch\"\n",
    "        return Money(self.amount + other.amount, self.currency)"
   ]
  },
  {
   "cell_type": "markdown",
   "id": "68aac06c",
   "metadata": {},
   "source": [
    "We can now form sums of `Money` objects, but adding pounds and euros would fail with an error message."
   ]
  },
  {
   "cell_type": "code",
   "execution_count": null,
   "id": "21ef1ffc",
   "metadata": {},
   "outputs": [],
   "source": [
    "a = Money(104, \"GBP\")\n",
    "b = Money(50.25)\n",
    "c = Money(1.99)\n",
    "print(b + c)\n",
    "# a + b"
   ]
  },
  {
   "cell_type": "markdown",
   "id": "c50cf33d",
   "metadata": {},
   "source": [
    "Unfortunately, floating point numbers don't always behave as you would expect:"
   ]
  },
  {
   "cell_type": "code",
   "execution_count": null,
   "id": "b6d4b1e8",
   "metadata": {},
   "outputs": [],
   "source": [
    "Money(0.1) + Money(0.2) == Money(0.3)"
   ]
  },
  {
   "cell_type": "code",
   "execution_count": null,
   "id": "cb615abd",
   "metadata": {},
   "outputs": [],
   "source": [
    "0.1 + 0.2"
   ]
  },
  {
   "cell_type": "markdown",
   "id": "665f2fb7",
   "metadata": {},
   "source": [
    "In contrast to integer values, floating point numbers are only **approximations** to real numbers. \n",
    "As a consequence, in computations with floating point numbers we need to **watch out for rounding errors**. \n",
    "\n",
    "But then, are monetary values actually floating point values?  No they are not.\n",
    "\n",
    "As an alternative design, we could store monetary values as integers: e.g., treat 5 Euro 10 cent as 510 cents, precisely ..."
   ]
  },
  {
   "cell_type": "markdown",
   "id": "af13a6de",
   "metadata": {},
   "source": [
    "---\n",
    "**Exercises**\n",
    "\n",
    "1. Implement subtraction of `Money` objects. What should happen if the currencies don’t match?\n",
    "2. Write a short explanation (in words) of what happens when Python sees `m1 + m2`, where `m1` and `m2` are `Money` objects.\n",
    "3. Extend your class to allow multiplication by a scalar (e.g. `1.05 * m1`). Which special method handles this?\n",
    "\n",
    "---"
   ]
  },
  {
   "cell_type": "markdown",
   "id": "a85a9cc8",
   "metadata": {},
   "source": [
    "## Task 4.  A `Vector` class for Linear Algebra"
   ]
  },
  {
   "cell_type": "markdown",
   "id": "6e740d67",
   "metadata": {},
   "source": [
    "Recall that vectors are lists of numbers that can be **added** and **scaled**.\n",
    "\n",
    "For example, in $3$-space, if $v = (0, 1, 0)$ and $w = (2,3,4)$ then $v + w = (2,4,4)$ and $2 w = (2,4,4)$.\n",
    "\n",
    "Plain python lists or tuples do behave differently with respect to addition and multiplication:"
   ]
  },
  {
   "cell_type": "code",
   "execution_count": null,
   "id": "846ac3ae",
   "metadata": {},
   "outputs": [],
   "source": [
    "v = (0, 1, 0)\n",
    "w = (2, 3, 4)\n",
    "print(v + w)\n",
    "print(2*w)"
   ]
  },
  {
   "cell_type": "markdown",
   "id": "5753348a",
   "metadata": {},
   "source": [
    "A simple way to adjust this unwanted behaviour is to define a class of `Vector` objects, each of which refers to a list of numbers as their `data` (say) attribute, and then to implement appropriate dunder methods to achieve the desired behaviour."
   ]
  },
  {
   "cell_type": "code",
   "execution_count": null,
   "id": "166143fa",
   "metadata": {},
   "outputs": [],
   "source": [
    "class Vector:\n",
    "    def __init__(self, data):\n",
    "        self.data = data\n",
    "\n",
    "    def __repr__(self):\n",
    "        return f\"Vector({self.data})\""
   ]
  },
  {
   "cell_type": "markdown",
   "id": "dbe161a1",
   "metadata": {},
   "source": [
    "With this class definition in place, we can already make and print `Vector` objects."
   ]
  },
  {
   "cell_type": "code",
   "execution_count": null,
   "id": "87b81831",
   "metadata": {},
   "outputs": [],
   "source": [
    "v = Vector([0,1,0])\n",
    "print(v)"
   ]
  },
  {
   "cell_type": "markdown",
   "id": "476c3098",
   "metadata": {},
   "source": [
    "---\n",
    "**Exercises**\n",
    "\n",
    "1. Add a method `norm()` that computes the Euclidean length of a vector.\n",
    "2. Implement `__str__` so that it just prints the items in a vector, separated by spaces (` `) and enclosed in square brackets (`[ ... ]`).\n",
    "\n",
    "---"
   ]
  },
  {
   "cell_type": "markdown",
   "id": "11a25a00",
   "metadata": {},
   "source": [
    "## Task 5. Adding Vectors"
   ]
  },
  {
   "cell_type": "markdown",
   "id": "d8d196d2",
   "metadata": {},
   "source": [
    "Now for the addtition.  We can use a `for` loop to compute the vector sum of two lists, `l` and `r`, of numbers as follows."
   ]
  },
  {
   "cell_type": "code",
   "execution_count": null,
   "id": "c7a1a3f8",
   "metadata": {},
   "outputs": [],
   "source": [
    "def sum_lists(l, r):\n",
    "    assert len(l) == len(r), \"length mismatch\"\n",
    "    result = []\n",
    "    for i in range(len(l)):\n",
    "        x = l[i]\n",
    "        y = r[i]\n",
    "        z = x + y\n",
    "        result.append(z)\n",
    "    return result\n"
   ]
  },
  {
   "cell_type": "code",
   "execution_count": null,
   "id": "39a4c658",
   "metadata": {},
   "outputs": [],
   "source": [
    "v = [0, 1, 0]\n",
    "w = [2,3,4]\n",
    "sum_lists(v, w)"
   ]
  },
  {
   "cell_type": "markdown",
   "id": "558b9477",
   "metadata": {},
   "source": [
    "There are a couple of possible improvements to this code:\n",
    "\n",
    "* Perhaps there is no need for the intermediate variables `x`, `y`, and `z`, as we can simply write `result.append(l[i] + r[i])`."
   ]
  },
  {
   "cell_type": "code",
   "execution_count": null,
   "id": "abe006a8",
   "metadata": {},
   "outputs": [],
   "source": [
    "def sum_lists(l, r):\n",
    "    assert len(l) == len(r), \"length mismatch\"\n",
    "    result = []\n",
    "    for i in range(len(l)):\n",
    "        result.append(l[i] + r[i])\n",
    "    return result"
   ]
  },
  {
   "cell_type": "code",
   "execution_count": null,
   "id": "428e0533",
   "metadata": {},
   "outputs": [],
   "source": [
    "sum_lists(v, w)"
   ]
  },
  {
   "cell_type": "markdown",
   "id": "48d0341b",
   "metadata": {},
   "source": [
    "* Moreover, this loop, which essentially makes a new list from two given ones, can be rephrased using **list comprehension**, thereby abolishing the need for `result` as an intermediate variable."
   ]
  },
  {
   "cell_type": "code",
   "execution_count": null,
   "id": "edf5dcf3",
   "metadata": {},
   "outputs": [],
   "source": [
    "def sum_lists(l, r):\n",
    "    assert len(l) == len(r), \"length mismatch\"\n",
    "    return [l[i] + r[i] for i in range(len(l))]"
   ]
  },
  {
   "cell_type": "code",
   "execution_count": null,
   "id": "a0b4b0fa",
   "metadata": {},
   "outputs": [],
   "source": [
    "sum_lists(v, w)"
   ]
  },
  {
   "cell_type": "markdown",
   "id": "b24ecbac",
   "metadata": {},
   "source": [
    "*  Finally, instead of, somewhat indirectly, looping over the indices in `range(len(l))`, we can loop directly over the given lists in parallel, using python's `zip` function."
   ]
  },
  {
   "cell_type": "code",
   "execution_count": null,
   "id": "d74dc0bf",
   "metadata": {},
   "outputs": [],
   "source": [
    "def sum_lists(l, r):\n",
    "    assert len(l) == len(r), \"length mismatch\"\n",
    "    return [x + y for x, y in zip(l, r)]"
   ]
  },
  {
   "cell_type": "code",
   "execution_count": null,
   "id": "4f5b9280",
   "metadata": {},
   "outputs": [],
   "source": [
    "sum_lists(v, w)"
   ]
  },
  {
   "cell_type": "markdown",
   "id": "46e42a3b",
   "metadata": {},
   "source": [
    "* If we want to implement a method for addition of `Vector` objects, we can use a copy of the `sum_lists` function as definition of the **special method** `__add__` in the\n",
    "`Vector` class, just taking care to rename the two parameters `l, r` to `self, other`, then find the list data in `self.data` and `other.data`, and finally to return a `Vector` object."
   ]
  },
  {
   "cell_type": "code",
   "execution_count": null,
   "id": "14e25df9",
   "metadata": {},
   "outputs": [],
   "source": [
    "class Vector:\n",
    "    def __init__(self, data):\n",
    "        self.data = data\n",
    "\n",
    "    def __repr__(self):\n",
    "        return f\"Vector({self.data})\"\n",
    "    \n",
    "    def __add__(self, other):\n",
    "        assert len(self.data) == len(other.data), \"length mismatch\"\n",
    "        return Vector([x + y for x, y in zip(self.data, other.data)])"
   ]
  },
  {
   "cell_type": "markdown",
   "id": "ddc02908",
   "metadata": {},
   "source": [
    "Then we can add `Vector` objects as follows, by writing genuine sums."
   ]
  },
  {
   "cell_type": "code",
   "execution_count": null,
   "id": "91f8fa5c",
   "metadata": {},
   "outputs": [],
   "source": [
    "v = Vector([0, 1, 0])\n",
    "w = Vector([2,3,4])\n",
    "v + w"
   ]
  },
  {
   "cell_type": "markdown",
   "id": "4e8cbd0c",
   "metadata": {},
   "source": [
    "---\n",
    "**Exercises**\n",
    "\n",
    "1. Implement subtraction of vectors.  Which special method is used for this?\n",
    "2. Implement the special method `__neg__` so that it returns the negative of a vector.\n",
    "3. How can you use the negative of a vector to simplify the implementation of subtraction?\n",
    "\n",
    "---"
   ]
  },
  {
   "cell_type": "markdown",
   "id": "d2d900e2",
   "metadata": {},
   "source": [
    "## Task 6.  `Vector` objects as lists"
   ]
  },
  {
   "cell_type": "markdown",
   "id": "c3864e11",
   "metadata": {},
   "source": [
    "By implementing certain dunder methods, we can make our `Vector` object **behave like a list**, just as implementing `__add__` makes it **behave like a number**.\n",
    "Specifically, assuming `v` is an instance of the `Vector` class:\n",
    "\n",
    "* implementing `__len__` will make `len(v)` work,\n",
    "* implementing `__getitem__` will make `v[i]` work,\n",
    "* implementing `__iter__` will allow loops like `for x in v:`\n",
    "\n",
    "It is somehow obvious what these methods should do, given that `v.data` **is** a list.\n",
    "\n",
    "There are other benefits of list like behavior, which will eventually avoid the repeated references to the `data` attribute in `Vector` addition ..."
   ]
  },
  {
   "cell_type": "code",
   "execution_count": null,
   "id": "ed4e0752",
   "metadata": {},
   "outputs": [],
   "source": [
    "class Vector:\n",
    "    def __init__(self, data):\n",
    "        self.data = data\n",
    "\n",
    "    def __repr__(self):\n",
    "        return f\"Vector({self.data})\"\n",
    "    \n",
    "    def __len__(self):\n",
    "        return len(self.data)\n",
    "    \n",
    "    def __getitem__(self, i):\n",
    "        return self.data[i]\n",
    "    \n",
    "    def __iter__(self):\n",
    "        return iter(self.data)"
   ]
  },
  {
   "cell_type": "markdown",
   "id": "43cd5945",
   "metadata": {},
   "source": [
    "As promised, we now can treat a `Vector` object `v` as a list. "
   ]
  },
  {
   "cell_type": "code",
   "execution_count": null,
   "id": "8cd45c18",
   "metadata": {},
   "outputs": [],
   "source": [
    "v = Vector([0, 1, 0])\n",
    "print(len(v))\n",
    "print(v[1])\n",
    "for x in v:\n",
    "    print(x)"
   ]
  },
  {
   "cell_type": "markdown",
   "id": "91f3f27e",
   "metadata": {},
   "source": [
    "And we can take advantage of this behaviour in the implementation of `__add__`"
   ]
  },
  {
   "cell_type": "code",
   "execution_count": null,
   "id": "a49ba8ba",
   "metadata": {},
   "outputs": [],
   "source": [
    "class Vector:\n",
    "    def __init__(self, data):\n",
    "        self.data = data\n",
    "\n",
    "    def __repr__(self):\n",
    "        return f\"Vector({self.data})\"\n",
    "    \n",
    "    def __len__(self):\n",
    "        return len(self.data)\n",
    "    \n",
    "    def __getitem__(self, i):\n",
    "        return self.data[i]\n",
    "    \n",
    "    def __iter__(self):\n",
    "        return iter(self.data)\n",
    "    \n",
    "    def __add__(self, other):\n",
    "        assert len(self) == len(other), \"length mismatch\"\n",
    "        return Vector([x + y for x, y in zip(self, other)])"
   ]
  },
  {
   "cell_type": "markdown",
   "id": "9edb4a04",
   "metadata": {},
   "source": [
    "Test it, again:"
   ]
  },
  {
   "cell_type": "code",
   "execution_count": null,
   "id": "7a6cee79",
   "metadata": {},
   "outputs": [],
   "source": [
    "v = Vector([0, 1, 0])\n",
    "w = Vector([2,3,4])\n",
    "v + w"
   ]
  },
  {
   "cell_type": "markdown",
   "id": "58b08f38",
   "metadata": {},
   "source": [
    "---\n",
    "**Exercises**\n",
    "\n",
    "1. For vectors `v` and `w`, what exactly is `zip(v, w)`?  And what is `list(zip(v, w))`?\n",
    "2. What is `list(zip(v, w))` if `v` and `w` have different lengths?\n",
    "---"
   ]
  },
  {
   "cell_type": "markdown",
   "id": "ba176079",
   "metadata": {},
   "source": [
    "## Task 7. Scaling `Vector` objects."
   ]
  },
  {
   "cell_type": "markdown",
   "id": "c18a5909",
   "metadata": {},
   "source": [
    "If $v$ is a vector and $s$ is a number, then the $s$ multiple of $v$ is the vector $w$ with $i$-th component $w_i = s v_i$. \n",
    "We can make `Vector` objects behave like this by implementing the **special method** `__rmul__`.\n",
    "Note how the parameters `self, other` here are used to represent the product `other * self`."
   ]
  },
  {
   "cell_type": "markdown",
   "id": "5438acc3",
   "metadata": {},
   "source": []
  },
  {
   "cell_type": "code",
   "execution_count": null,
   "id": "c0fa747d",
   "metadata": {},
   "outputs": [],
   "source": [
    "class Vector:\n",
    "    def __init__(self, data):\n",
    "        self.data = data\n",
    "\n",
    "    def __repr__(self):\n",
    "        return f\"Vector({self.data})\"\n",
    "    \n",
    "    def __len__(self):\n",
    "        return len(self.data)\n",
    "    \n",
    "    def __getitem__(self, i):\n",
    "        return self.data[i]\n",
    "    \n",
    "    def __iter__(self):\n",
    "        return iter(self.data)\n",
    "    \n",
    "    def __add__(self, other):\n",
    "        assert len(self) == len(other), \"length mismatch\"\n",
    "        return Vector([x + y for x, y in zip(self, other)])\n",
    "    \n",
    "    def __rmul__(self, other):\n",
    "        return Vector([other * x for x in self])"
   ]
  },
  {
   "cell_type": "markdown",
   "id": "10de67f3",
   "metadata": {},
   "source": [
    "Now we can form **linear combinations** of vectors."
   ]
  },
  {
   "cell_type": "code",
   "execution_count": null,
   "id": "78c55009",
   "metadata": {},
   "outputs": [],
   "source": [
    "v = Vector([0, 1, 0])\n",
    "w = Vector([2,3,4])\n",
    "2 * v + 3 *  w"
   ]
  },
  {
   "cell_type": "markdown",
   "id": "1115064b",
   "metadata": {},
   "source": [
    "---\n",
    "**Exercises**\n",
    "\n",
    "1. Write a method `dot(self, other)` that for two vectors $v, w$ of the same length computes their dot product $v.w = \\sum_i v_i w_i$.\n",
    "2. How would you then compute the dot product of two `Vector` objects `v` and `w`?\n",
    "\n",
    "1. Write a function `basis_vectors(n)` that for $n > 0$ returns a list of $n$ vectors $v^{(0)}, v^{(1)}, \\dots, v^{(n-1)}$ of length $n$, with the entries in vector $v^{(i)}$ all being $0$, except for an entry $1$ in position 1.\n",
    "\n",
    "\n",
    "---"
   ]
  },
  {
   "cell_type": "markdown",
   "id": "b098a3d1",
   "metadata": {},
   "source": [
    "## Summary\n",
    "\n",
    "In this notebook, you have learned about the core ideas of **object-oriented programming (OOP)** and how they extend Python’s expressive power:\n",
    "\n",
    "* You saw that a **class** is a *blueprint* for creating objects that bundle **data** (attributes) and **behaviour** (methods).\n",
    "* You practiced defining classes with an `__init__` constructor to initialise attributes, and `__repr__` to give readable string representations.\n",
    "* You explored how **methods** operate on the data inside an object.\n",
    "* You discovered **dunder (double-underscore) methods**, which let your classes interact seamlessly with Python’s built-in operators (for example, `__add__`, or `__getitem__`).\n",
    "* You learned that OOP makes programs more **modular**, **readable**, and **reusable** — especially when representing structured concepts such as vectors, matrices, or financial instruments.\n"
   ]
  },
  {
   "cell_type": "markdown",
   "id": "b6005a51",
   "metadata": {},
   "source": []
  }
 ],
 "metadata": {
  "kernelspec": {
   "display_name": "Python 3",
   "language": "python",
   "name": "python3"
  },
  "language_info": {
   "codemirror_mode": {
    "name": "ipython",
    "version": 3
   },
   "file_extension": ".py",
   "mimetype": "text/x-python",
   "name": "python",
   "nbconvert_exporter": "python",
   "pygments_lexer": "ipython3",
   "version": "3.12.3"
  }
 },
 "nbformat": 4,
 "nbformat_minor": 5
}
