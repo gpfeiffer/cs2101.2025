{
 "cells": [
  {
   "cell_type": "markdown",
   "metadata": {},
   "source": [
    "### CS2101 - Programming for Science and Finance\n",
    "Prof. Götz Pfeiffer<br />\n",
    "School of Mathematical and Statistical Sciences<br />\n",
    "University of Galway"
   ]
  },
  {
   "cell_type": "markdown",
   "metadata": {},
   "source": [
    "# Computer Lab 2"
   ]
  },
  {
   "cell_type": "markdown",
   "metadata": {},
   "source": [
    "Provide answers to the problems in the boxes provided.  Partial marks will be awarded for\n",
    "participation and engagement.\n",
    "\n",
    "**Important:** When finished, print this notebook into a **pdf** file and submit this pdf to\n",
    "**canvas**.  (Submissions in other formats will not be accepted.)\n",
    "\n",
    "**Deadline** is next Monday at 5pm."
   ]
  },
  {
   "cell_type": "markdown",
   "metadata": {},
   "source": [
    "## Setup"
   ]
  },
  {
   "cell_type": "markdown",
   "metadata": {},
   "source": [
    "This is a `jupyter` notebook.   You can open and interact\n",
    "with the notebook through one of sites recommended at\n",
    "its [github repository](https://github.com/gpfeiffer/cs2101.2025).\n",
    "\n",
    "Or, you can\n",
    "install and use `jupyter` as a `python` package on your own laptop or PC.  "
   ]
  },
  {
   "attachments": {},
   "cell_type": "markdown",
   "metadata": {},
   "source": [
    "The main purpose of this lab is to learn how to interact with a `jupyter` notebook.\n",
    "\n",
    "* In general, a `jupyter` notebook is a sequence of **cells**.\n",
    "* A cell contains either **text** or `python`  **code**.\n",
    "* You can modify each cell as you like.\n",
    "* In order to run the code in a cell, use the mouse or arrow keys to highlight the box and then press SHIFT-RETURN ...\n",
    "* Should it ever happen that the notebook becomes unusable, start again with a fresh copy."
   ]
  },
  {
   "cell_type": "markdown",
   "metadata": {},
   "source": [
    "## 1. Lists.\n",
    "\n",
    "Lists are an important compound data structure in Python.  Being dynamic and mutable, they can be applied in many different ways for different purposes."
   ]
  },
  {
   "cell_type": "markdown",
   "metadata": {},
   "source": [
    "1.  Using a `for` loop, write a function `multiple_list` with two arguments, `c` and `numbers`,\n",
    "    where `c` is a number and `numbers` is a list of numbers, which returns the list of `c`-multiples of the numbers in the list `numbers`.  That is, when `numbers` is `[1,2,3,4]`, and `c` is `5`, the function should return the list `[5, 10, 15, 20]`."
   ]
  },
  {
   "cell_type": "code",
   "execution_count": null,
   "metadata": {},
   "outputs": [],
   "source": [
    "## Your code goes here"
   ]
  },
  {
   "cell_type": "code",
   "execution_count": null,
   "metadata": {},
   "outputs": [],
   "source": []
  },
  {
   "cell_type": "markdown",
   "metadata": {},
   "source": [
    "2. Using a `for` loop, write a function `sum_lists` which takes two arguments `numbersA` and `numbersB`, both lists of numbers, and returns the single list of all sums of corresponding numbers in the lists `numbersA` and `numbersB`.  That is, if `numbersA` is `[1,2,3]` and `numbersB` is `[1,0,-1]`, the function should return the list `[2,2,2]`. "
   ]
  },
  {
   "cell_type": "code",
   "execution_count": null,
   "metadata": {},
   "outputs": [],
   "source": [
    "## Your code goes here"
   ]
  },
  {
   "cell_type": "code",
   "execution_count": null,
   "metadata": {},
   "outputs": [],
   "source": []
  },
  {
   "cell_type": "markdown",
   "metadata": {},
   "source": [
    "3. Modify your `sum_list` function in such a way that it prints an error message in case the two given argument lists do not have the same length. "
   ]
  },
  {
   "cell_type": "code",
   "execution_count": null,
   "metadata": {},
   "outputs": [],
   "source": [
    "## Your code goes here"
   ]
  },
  {
   "cell_type": "markdown",
   "metadata": {},
   "source": [
    "The first few digits of $\\pi$ are like so:"
   ]
  },
  {
   "cell_type": "code",
   "execution_count": null,
   "metadata": {},
   "outputs": [],
   "source": [
    "pi = [3, 1, 4, 1, 5, 9, 2, 6, 5, 3, 5, 8, 9, 7, 9, 3, 2, 3, 8, 4, 6, 2, 6, 4, 3, 3,\n",
    "      8, 3, 2, 7, 9, 5, 0, 2, 8, 8, 4, 1, 9, 7, 1, 6, 9, 3, 9, 9, 3, 7, 5, 1, 0]"
   ]
  },
  {
   "cell_type": "markdown",
   "metadata": {},
   "source": [
    "4. Consult the python documentation and find the **list method** that allows you to determine the **position** of the first occurrance of the digit $9$ in the above list.  What is the position of the first $9$ in this list?  What is the position of the second $9$ in this list?"
   ]
  },
  {
   "cell_type": "code",
   "execution_count": null,
   "metadata": {},
   "outputs": [],
   "source": [
    "## Your code goes here"
   ]
  },
  {
   "cell_type": "markdown",
   "metadata": {},
   "source": [
    "5. Consult the python documentation and find out what `enumerate` does to a list.  What does `list(enumerate(pi))` return?\n",
    "Using `enumerate`, write a python program that determines **all** the positions of the digit $9$ in this list."
   ]
  },
  {
   "cell_type": "code",
   "execution_count": null,
   "metadata": {},
   "outputs": [],
   "source": [
    "## Your code goes here"
   ]
  },
  {
   "cell_type": "code",
   "execution_count": null,
   "metadata": {},
   "outputs": [],
   "source": []
  },
  {
   "cell_type": "markdown",
   "metadata": {},
   "source": [
    "6. Consult the python documentation and find the **list method** that allows you to determine the **number** of occurrances of the digit $9$ in the above sequence `pi`.  How often does $9$ appear in the sequence `pi`?"
   ]
  },
  {
   "cell_type": "code",
   "execution_count": null,
   "metadata": {},
   "outputs": [],
   "source": [
    "## Your code goes here"
   ]
  },
  {
   "cell_type": "markdown",
   "metadata": {},
   "source": [
    "## 2. List Comprehension\n",
    "\n",
    "Often, the purpose of a `for` loop is to construct a new list from one or more old lists.  Many such tasks can be concisely expressed through list comprehension, where the elements of the new list are constructed by a **formula**, rather than a loop.  For instance\n",
    "```python\n",
    "[ x**2 for x in range(10) ]\n",
    "```\n",
    "is the list of squares of the numbers $0, \\dots, 9$."
   ]
  },
  {
   "cell_type": "markdown",
   "metadata": {},
   "source": [
    "1.  Using **list comprehension**, write a function `multiple_list1` with two arguments, `c` and `numbers`,\n",
    "    where `c` is a number and `numbers` is a list of numbers, which returns the list of `c`-multiples of the numbers in the list `numbers`.  That is, when `numbers` is `[1,2,3,4]`, and `c` is `5`, the function should return the list `[5, 10, 15, 20]`."
   ]
  },
  {
   "cell_type": "code",
   "execution_count": null,
   "metadata": {},
   "outputs": [],
   "source": [
    "## Your code goes here"
   ]
  },
  {
   "cell_type": "code",
   "execution_count": null,
   "metadata": {},
   "outputs": [],
   "source": []
  },
  {
   "cell_type": "markdown",
   "metadata": {},
   "source": [
    "2. Using **list comprehension**, write a function `sum_lists1` which takes two arguments `numbersA` and `numbersB`, both lists of numbers, and returns the single list of all sums of corresponding numbers in the lists `numbersA` and `numbersB`.  That is, if `numbersA` is `[1,2,3]` and `numbersB` is `[1,0,-1]`, the function should return the list `[2,2,2]`. "
   ]
  },
  {
   "cell_type": "code",
   "execution_count": null,
   "metadata": {},
   "outputs": [],
   "source": [
    "## Your code goes here"
   ]
  },
  {
   "cell_type": "code",
   "execution_count": null,
   "metadata": {},
   "outputs": [],
   "source": []
  },
  {
   "cell_type": "markdown",
   "metadata": {},
   "source": [
    "3. Write a python program that determines, for each digit $d$ in $\\{0, 1, \\dots, 9\\}$, the number of occurrances of $d$ in the list `pi` above."
   ]
  },
  {
   "cell_type": "code",
   "execution_count": null,
   "metadata": {},
   "outputs": [],
   "source": [
    "## Your code goes here"
   ]
  },
  {
   "cell_type": "markdown",
   "metadata": {},
   "source": [
    "4. Write a python function `standardBasisElement` that takes two arguments, `n` and `i`, and computes and returns a list of length `n` with all entries $0$, except for the entry at position $i$, which should be $1$.  That is, `standardBasisElement(5, 3)` should return the list `[0, 0, 0, 1, 0]`."
   ]
  },
  {
   "cell_type": "code",
   "execution_count": null,
   "metadata": {},
   "outputs": [],
   "source": [
    "## Your code goes here"
   ]
  },
  {
   "cell_type": "code",
   "execution_count": null,
   "metadata": {},
   "outputs": [],
   "source": []
  },
  {
   "cell_type": "markdown",
   "metadata": {},
   "source": [
    "## 3. Strings\n",
    "\n",
    "In Python, strings are like lists, except that they are immutable and homogeneous."
   ]
  },
  {
   "cell_type": "markdown",
   "metadata": {},
   "source": [
    "Suppose that `text` is the following string."
   ]
  },
  {
   "cell_type": "code",
   "execution_count": null,
   "metadata": {},
   "outputs": [],
   "source": [
    "text = \"Programming for Science and Finance\""
   ]
  },
  {
   "cell_type": "markdown",
   "metadata": {},
   "source": [
    "1. Consult the Python documentation and find the **string method** that converts a string into ALL CAPITALS.  What is the all capitals version of `text`?"
   ]
  },
  {
   "cell_type": "code",
   "execution_count": null,
   "metadata": {},
   "outputs": [],
   "source": [
    "## Your code goes here"
   ]
  },
  {
   "cell_type": "markdown",
   "metadata": {},
   "source": [
    "The builtin function [`ord`](https://docs.python.org/3/library/functions.html#ord) returns the [ASCII](https://en.wikipedia.org/wiki/ASCII) code of a single character like so:"
   ]
  },
  {
   "cell_type": "code",
   "execution_count": null,
   "metadata": {},
   "outputs": [],
   "source": [
    "ord('A')"
   ]
  },
  {
   "cell_type": "markdown",
   "metadata": {},
   "source": [
    "The inverse function of `ord` is [`chr`](https://docs.python.org/3/library/functions.html#chr). It converts an ASCII code into the corresponding character:"
   ]
  },
  {
   "cell_type": "code",
   "execution_count": null,
   "metadata": {},
   "outputs": [],
   "source": [
    "chr(65)"
   ]
  },
  {
   "cell_type": "markdown",
   "metadata": {},
   "source": [
    "2.  Using **list comprehension**, construct the list (or string) of all 26 uppercase letters of the alphabet.   Then use this list to determine, for each letter `l`, the number of occurrances of `l` in the all capitals version of text."
   ]
  },
  {
   "cell_type": "code",
   "execution_count": null,
   "metadata": {},
   "outputs": [],
   "source": [
    "## Your code goes here"
   ]
  },
  {
   "cell_type": "code",
   "execution_count": null,
   "metadata": {},
   "outputs": [],
   "source": []
  },
  {
   "cell_type": "markdown",
   "metadata": {},
   "source": [
    "##  Submit your work in PDF format!"
   ]
  },
  {
   "cell_type": "code",
   "execution_count": null,
   "metadata": {},
   "outputs": [],
   "source": []
  }
 ],
 "metadata": {
  "kernelspec": {
   "display_name": "Python 3 (ipykernel)",
   "language": "python",
   "name": "python3"
  },
  "language_info": {
   "codemirror_mode": {
    "name": "ipython",
    "version": 3
   },
   "file_extension": ".py",
   "mimetype": "text/x-python",
   "name": "python",
   "nbconvert_exporter": "python",
   "pygments_lexer": "ipython3",
   "version": "3.12.3"
  }
 },
 "nbformat": 4,
 "nbformat_minor": 4
}
