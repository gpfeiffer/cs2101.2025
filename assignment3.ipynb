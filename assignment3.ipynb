{
 "cells": [
  {
   "cell_type": "markdown",
   "metadata": {},
   "source": [
    "### CS2101 - Programming for Science and Finance\n",
    "Prof. Götz Pfeiffer<br />\n",
    "School of Mathematical and Statistical Sciences<br />\n",
    "University of Galway"
   ]
  },
  {
   "cell_type": "markdown",
   "metadata": {},
   "source": [
    "# Computer Lab 3"
   ]
  },
  {
   "cell_type": "markdown",
   "metadata": {},
   "source": [
    "Provide answers to the problems in the boxes provided.  Partial marks will be awarded for\n",
    "participation and engagement.\n",
    "\n",
    "**Important:** When finished, print this notebook into a **pdf** file and submit this pdf to\n",
    "**canvas**.  (Submissions in other formats will not be accepted.)\n",
    "\n",
    "**Deadline** is next Monday at 5pm."
   ]
  },
  {
   "cell_type": "markdown",
   "metadata": {},
   "source": [
    "## Setup"
   ]
  },
  {
   "cell_type": "markdown",
   "metadata": {},
   "source": [
    "This is a `jupyter` notebook.   You can open and interact\n",
    "with the notebook through one of sites recommended at\n",
    "its [github repository](https://github.com/gpfeiffer/cs2101.2025).\n",
    "\n",
    "Or, you can\n",
    "install and use `jupyter` as a `python` package on your own laptop or PC.  "
   ]
  },
  {
   "attachments": {},
   "cell_type": "markdown",
   "metadata": {},
   "source": [
    "The main purpose of this lab is to learn how to interact with a `jupyter` notebook.\n",
    "\n",
    "* In general, a `jupyter` notebook is a sequence of **cells**.\n",
    "* A cell contains either **text** or `python`  **code**.\n",
    "* You can modify each cell as you like.\n",
    "* In order to run the code in a cell, use the mouse or arrow keys to highlight the box and then press SHIFT-RETURN ...\n",
    "* Should it ever happen that the notebook becomes unusable, start again with a fresh copy."
   ]
  },
  {
   "cell_type": "markdown",
   "metadata": {},
   "source": [
    "##  1. Money.\n",
    "\n",
    "Construct a class `Money` for financial values with attributes `amount` and `currency`.\n",
    "The `amount` should be an integer, representing the value in cents (in case of the EUR currency).\n",
    "The `currency` should be a (short) string like `\"EUR\"`, `\"USD\"` or `\"GBP\"`.\n",
    "\n",
    "Methods to be defined in the class should include\n",
    "* a constructor `__init__` to make a `Money` object and assign values to the attributes `amount` and `currency`;\n",
    "* a string representation `__repr__`, perhaps printing the `Money` object as euro and cent;\n",
    "* an addition function `__add__`, which returns a new `Money` object whose amount is the sum of two given objects, provided they have the same currency.\n",
    "* a negation function `__neg__`, which returns a new `Money` whose amount is the negative of a given object.\n",
    "* a subtraction function `__sub__`, which computes the difference of two given `Money` objects as the sum of one and the negative of the other.\n",
    "* a multiplication function `__mul__` which computes a multiple of a `Money` object, e.g., after applying interest (here care needs to be taken that the result amount is an integer, even if the interest rate is of type `float`)."
   ]
  },
  {
   "cell_type": "code",
   "execution_count": null,
   "metadata": {},
   "outputs": [],
   "source": [
    "class Money:\n",
    "    def __init__(self, amount, currency):\n",
    "        # Your code goes here \n",
    "    def __repr__(self):\n",
    "        # Your code goes here \n",
    "    def __add__(self, other):\n",
    "        # Your code goes here \n",
    "    def __neg__(self):\n",
    "        # Your code goes here \n",
    "    def __sub__(self, other):\n",
    "        # Your code goes here\n",
    "    def __mul__(self, number):\n",
    "        # Your code goes here \n"
   ]
  },
  {
   "cell_type": "markdown",
   "metadata": {},
   "source": [
    "* Test your class and objects with the following examples"
   ]
  },
  {
   "cell_type": "code",
   "execution_count": null,
   "metadata": {},
   "outputs": [],
   "source": [
    "coffee = Money(256, \"EUR\")\n",
    "deposit = Money(5000, \"EUR\")\n",
    "print(coffee)\n",
    "print(deposit)"
   ]
  },
  {
   "cell_type": "code",
   "execution_count": null,
   "metadata": {},
   "outputs": [],
   "source": [
    "coffee + deposit"
   ]
  },
  {
   "cell_type": "code",
   "execution_count": null,
   "metadata": {},
   "outputs": [],
   "source": [
    "deposit - coffee"
   ]
  },
  {
   "cell_type": "code",
   "execution_count": null,
   "metadata": {},
   "outputs": [],
   "source": [
    "rate = 0.045\n",
    "deposit * rate"
   ]
  },
  {
   "cell_type": "markdown",
   "metadata": {},
   "source": [
    "* With an interest rate of $4.5%$, apply the future value formula $A = P (1 + r)^n$ to a deposit of EUR $50$ to determine its value after $n = 100$ rounds of accumulated interest."
   ]
  },
  {
   "cell_type": "code",
   "execution_count": null,
   "metadata": {},
   "outputs": [],
   "source": [
    "# Your calculation goes here"
   ]
  },
  {
   "cell_type": "markdown",
   "metadata": {},
   "source": [
    "* Then, using a `for` loop, determine the actual value of the same deposit after 100 rounds of accumulating interest and creating a new `Money` object at each step."
   ]
  },
  {
   "cell_type": "code",
   "execution_count": null,
   "metadata": {},
   "outputs": [],
   "source": [
    "# Your calculation goes here"
   ]
  },
  {
   "cell_type": "markdown",
   "metadata": {},
   "source": [
    "* In your own words: What is the difference, and why? "
   ]
  },
  {
   "cell_type": "markdown",
   "metadata": {},
   "source": [
    "...  your answer goes here ..."
   ]
  },
  {
   "cell_type": "markdown",
   "metadata": {},
   "source": [
    "## 2. Fractions."
   ]
  },
  {
   "cell_type": "markdown",
   "metadata": {},
   "source": [
    "* Define a class `Fraction` for **fraction objects** as follows.\n",
    "* A `Fraction` object should have two (integer valued) attributes `num` (for the **numerator**) and `den` (for the **denominator**), so that it represents the value `num/den`.\n",
    "* Care should be taken to keep these attributes in **lowest terms**.\n",
    "* For this you might need a function `gcd` that computes the **greatest common divisor** of two integers:  use the one from Assignment 1, or `from math import gcd`."
   ]
  },
  {
   "cell_type": "code",
   "execution_count": null,
   "metadata": {},
   "outputs": [],
   "source": []
  },
  {
   "cell_type": "code",
   "execution_count": null,
   "metadata": {},
   "outputs": [],
   "source": [
    "gcd(24, 16)"
   ]
  },
  {
   "cell_type": "markdown",
   "metadata": {},
   "source": [
    "1. Start with a class definition that defines a constructor `__init__` and a string representation method `__repr__` for fraction objects."
   ]
  },
  {
   "cell_type": "code",
   "execution_count": null,
   "metadata": {},
   "outputs": [],
   "source": [
    "class Fraction:\n",
    "    def __init__(self, num, den):\n",
    "        # Your code goes here\n",
    "    def __repr__(self):\n",
    "        # Your code goes here\n"
   ]
  },
  {
   "cell_type": "markdown",
   "metadata": {},
   "source": [
    "2. Test the class on these objects:"
   ]
  },
  {
   "cell_type": "code",
   "execution_count": null,
   "metadata": {},
   "outputs": [],
   "source": [
    "print(Fraction(2,3))\n",
    "print(Fraction(-2,3))\n",
    "print(Fraction(2, -3))"
   ]
  },
  {
   "cell_type": "markdown",
   "metadata": {},
   "source": [
    "3. Write a function `neg_fraction` that computes and returns the **negative** of a fraction object as a fraction object."
   ]
  },
  {
   "cell_type": "code",
   "execution_count": null,
   "metadata": {},
   "outputs": [],
   "source": [
    "def neg_fraction(frac):\n",
    "    # Your code goes here\n"
   ]
  },
  {
   "cell_type": "markdown",
   "metadata": {},
   "source": [
    "4.  Test your function:"
   ]
  },
  {
   "cell_type": "code",
   "execution_count": null,
   "metadata": {},
   "outputs": [],
   "source": [
    "neg_fraction(Fraction(3, 5))"
   ]
  },
  {
   "cell_type": "markdown",
   "metadata": {},
   "source": [
    "5.  Write a function `mul_fractions` that computes and returns the **product** of two fraction objects as a fraction object."
   ]
  },
  {
   "cell_type": "code",
   "execution_count": null,
   "metadata": {},
   "outputs": [],
   "source": [
    "def mul_fractions(lft, rgt):\n",
    "    # Your code goes here\n"
   ]
  },
  {
   "cell_type": "markdown",
   "metadata": {},
   "source": [
    "6.  Test your function:  "
   ]
  },
  {
   "cell_type": "code",
   "execution_count": null,
   "metadata": {},
   "outputs": [],
   "source": [
    "mul_fractions(Fraction(2, 3), Fraction(3,4))"
   ]
  },
  {
   "cell_type": "markdown",
   "metadata": {},
   "source": [
    "7.  Write a function `add_fractions` that computes and returns the **sum** of two fraction objects as a fraction object."
   ]
  },
  {
   "cell_type": "code",
   "execution_count": null,
   "metadata": {},
   "outputs": [],
   "source": [
    "def add_fractions(lft, rgt):\n",
    "    # Your code goes here\n"
   ]
  },
  {
   "cell_type": "markdown",
   "metadata": {},
   "source": [
    "8. Test your function:"
   ]
  },
  {
   "cell_type": "code",
   "execution_count": null,
   "metadata": {},
   "outputs": [],
   "source": [
    "add_fractions(Fraction(1,2), Fraction(2,3))"
   ]
  },
  {
   "cell_type": "markdown",
   "metadata": {},
   "source": [
    "9.  Write a function `sub_fractions` that computes and returns the **difference** of two fraction objects as a fraction object, perhaps as the sum of one and the negative of the other."
   ]
  },
  {
   "cell_type": "code",
   "execution_count": null,
   "metadata": {},
   "outputs": [],
   "source": [
    "def sub_fractions(lft, rgt):\n",
    "    # Your code goes here\n"
   ]
  },
  {
   "cell_type": "markdown",
   "metadata": {},
   "source": [
    "10. Test your function:"
   ]
  },
  {
   "cell_type": "code",
   "execution_count": null,
   "metadata": {},
   "outputs": [],
   "source": [
    "sub_fractions(Fraction(2, 3), Fraction(1,2))"
   ]
  },
  {
   "cell_type": "markdown",
   "metadata": {},
   "source": [
    "11. Write a function `eq_fractions` that tests two fraction objects for equality, i.e., it returns `True` if the two represent the same value, and it returns `False` if not."
   ]
  },
  {
   "cell_type": "code",
   "execution_count": null,
   "metadata": {},
   "outputs": [],
   "source": [
    "def eq_fractions(lft, rgt):\n",
    "    # Your code goes here\n"
   ]
  },
  {
   "cell_type": "markdown",
   "metadata": {},
   "source": [
    "12.  Test your function:"
   ]
  },
  {
   "cell_type": "code",
   "execution_count": null,
   "metadata": {},
   "outputs": [],
   "source": [
    "print(eq_fractions(Fraction(1,2), Fraction(2,4)))\n",
    "print(eq_fractions(Fraction(1,2), Fraction(3,4)))"
   ]
  },
  {
   "cell_type": "markdown",
   "metadata": {},
   "source": [
    "13.  Now rewrite your class definition for `Fraction` objects  with **special methods**\n",
    "   * `__neg__` similar to `neg_fraction`\n",
    "   * `__mul__` similar to `mul_fractions`\n",
    "   * `__add__` similar to `add_fractions`\n",
    "   * `__sub__` similar to `sub_fractions`\n",
    "   * `__eq__` similar to `eq_fractions`"
   ]
  },
  {
   "cell_type": "code",
   "execution_count": null,
   "metadata": {},
   "outputs": [],
   "source": [
    "class Fraction:\n",
    "        # Your code goes here\n"
   ]
  },
  {
   "cell_type": "markdown",
   "metadata": {},
   "source": [
    "14.  Test your class:"
   ]
  },
  {
   "cell_type": "code",
   "execution_count": null,
   "metadata": {},
   "outputs": [],
   "source": [
    "print(Fraction(2, 3))\n",
    "print(-Fraction(3, 5))\n",
    "print(Fraction(2, 3) * Fraction(3, 4))\n",
    "print(Fraction(1, 2) + Fraction(2, 3))\n",
    "print(Fraction(2, 3) - Fraction(1, 2))\n",
    "print(Fraction(1, 2) == Fraction(2, 4))\n",
    "print(Fraction(1, 2) == Fraction(3, 4))"
   ]
  },
  {
   "cell_type": "markdown",
   "metadata": {},
   "source": [
    "15. What needs to be done so that comparisons like\n",
    "    ```python\n",
    "    Fraction(1, 2) < Fraction(2, 3)\n",
    "    Fraction(1, 2) <= Fraction(2, 3)    \n",
    "    ```\n",
    "    are evaluated in a meaningful way?"
   ]
  },
  {
   "cell_type": "code",
   "execution_count": null,
   "metadata": {},
   "outputs": [],
   "source": []
  },
  {
   "cell_type": "markdown",
   "metadata": {},
   "source": [
    "##  Submit your work in PDF format!"
   ]
  },
  {
   "cell_type": "code",
   "execution_count": null,
   "metadata": {},
   "outputs": [],
   "source": []
  }
 ],
 "metadata": {
  "kernelspec": {
   "display_name": "Python 3 (ipykernel)",
   "language": "python",
   "name": "python3"
  },
  "language_info": {
   "codemirror_mode": {
    "name": "ipython",
    "version": 3
   },
   "file_extension": ".py",
   "mimetype": "text/x-python",
   "name": "python",
   "nbconvert_exporter": "python",
   "pygments_lexer": "ipython3",
   "version": "3.12.3"
  }
 },
 "nbformat": 4,
 "nbformat_minor": 4
}
