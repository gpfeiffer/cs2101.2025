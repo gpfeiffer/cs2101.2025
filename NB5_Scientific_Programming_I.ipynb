{
 "cells": [
  {
   "cell_type": "markdown",
   "id": "419ec4b9",
   "metadata": {},
   "source": [
    "### Programming for Science and Finance\n",
    "\n",
    "*Prof. Götz Pfeiffer, School of Mathematical and Statistical Sciences, University of Galway*"
   ]
  },
  {
   "cell_type": "markdown",
   "id": "f8f4aaf5",
   "metadata": {},
   "source": [
    "# Notebook 5: Scientific Programming I\n",
    "\n",
    "This notebook accompanies **Part II: Scientific Programming**. You will:\n",
    "\n",
    "* learn to create and manipulate **NumPy arrays**, the core data structure for scientific computing in Python;\n",
    "* explore powerful **array generators** such as `zeros`, `arange` and `linspace`;\n",
    "* practice **multidimensional indexing and slicing** to access, reshape, and modify data efficiently;\n",
    "* apply array operations to **digital images**, understanding how pixel data can be processed numerically;\n",
    "* work with the **RGB colour model** and perform simple image transformations using array arithmetic;\n",
    "* and experience the speed and elegance of **vectorized operations**, where entire datasets are processed without explicit loops.\n",
    "\n",
    "By the end of this notebook, you’ll see how the same array-based approach supports both **scientific analysis** and **visual applications**, setting the stage for numerical simulation and data modelling in later notebooks."
   ]
  },
  {
   "cell_type": "markdown",
   "id": "3688096b",
   "metadata": {},
   "source": [
    "## Task 1. Numpy Arrays."
   ]
  },
  {
   "cell_type": "markdown",
   "id": "65962a9d",
   "metadata": {},
   "source": [
    "When working with large amounts of data, one soon notices\n",
    "\n",
    "* Python lists need a lot of space;\n",
    "* Python loops need a lot of time.\n",
    "\n",
    "One reason for this is Python's dynamic typing, which allows lists to contain inhomogeneous data and variables to have no fixed type.\n",
    "\n",
    "If you know that you are working with homogeneous data, there are lots of savings to be made, both in terms of space and in terms of time.\n",
    "\n",
    "That's what the `numpy` package promises to provide."
   ]
  },
  {
   "cell_type": "code",
   "execution_count": null,
   "id": "c267b5ee-6c69-4651-b8bd-78da276e5a8f",
   "metadata": {},
   "outputs": [],
   "source": [
    "import numpy as np\n",
    "print(np.__version__)"
   ]
  },
  {
   "cell_type": "markdown",
   "id": "d6695691",
   "metadata": {},
   "source": [
    "`numpy` provides a new **data type** `np.array` for **homogeneous** lists of data."
   ]
  },
  {
   "cell_type": "code",
   "execution_count": null,
   "id": "a327ba9f",
   "metadata": {},
   "outputs": [],
   "source": [
    "l = [3, 1, 4, 1, 5, 9, 2, 6]\n",
    "a = np.array(l)\n",
    "print(a)\n",
    "a"
   ]
  },
  {
   "cell_type": "markdown",
   "id": "5832c8ce",
   "metadata": {},
   "source": [
    "Even with such a small example, the fact that an array only needs to store the common **type** of its entries once can lead to big savings in terms of space."
   ]
  },
  {
   "cell_type": "code",
   "execution_count": null,
   "id": "e9caa371",
   "metadata": {},
   "outputs": [],
   "source": [
    "from sys import getsizeof\n",
    "print(\"Size of list:\", getsizeof(l) + sum(getsizeof(x) for x in l))\n",
    "print(\"Size of array:\", getsizeof(a))"
   ]
  },
  {
   "cell_type": "markdown",
   "id": "24439165",
   "metadata": {},
   "source": [
    "`numpy` arrays can be multidimensional, e.g., 2-D matrices."
   ]
  },
  {
   "cell_type": "code",
   "execution_count": null,
   "id": "f3130bbc",
   "metadata": {},
   "outputs": [],
   "source": [
    "ll = [list(range(i, i+4)) for i in [2,5,7]]\n",
    "print(ll)\n",
    "aa = np.array(ll)\n",
    "print(aa)"
   ]
  },
  {
   "cell_type": "markdown",
   "id": "4d2bea7c",
   "metadata": {},
   "source": [
    "---\n",
    "**Exercises.**\n",
    "\n",
    "1. Create a $3\\times 3$ matrix `A` of integers and a scalar `s = 2.5`.\n",
    "Predict and verify what happens for `A + s` and `s * A`.\n",
    "\n",
    "2. Compute the transpose of `A` as `A.T` and verify that `A.T.T` equals `A`.\n",
    "\n",
    "3. Convert `A` to a matrix of floating point numbers via `A.astype(float)`.\n",
    "\n",
    "1. Create and print a $3 \\times 3 \\times 3$ array of integers.\n",
    "---"
   ]
  },
  {
   "cell_type": "markdown",
   "id": "77b6c94a",
   "metadata": {},
   "source": [
    "## Task 2.  Array Generators"
   ]
  },
  {
   "cell_type": "markdown",
   "id": "658fde47",
   "metadata": {},
   "source": [
    "Each array `a` has a number of attributes, most importantly, `a.shape` and `a.dtype`.\n",
    "\n",
    "* `a.shape`: its **length** in each dimension,\n",
    "* `a.dtype`: the common **type** of all its entries.\n"
   ]
  },
  {
   "cell_type": "code",
   "execution_count": null,
   "id": "1fe7ddfe",
   "metadata": {},
   "outputs": [],
   "source": [
    "print(a.shape)\n",
    "print(a.dtype)\n",
    "print(aa.shape)\n",
    "aa.dtype"
   ]
  },
  {
   "cell_type": "markdown",
   "id": "10ca000b",
   "metadata": {},
   "source": [
    "Further attributes are derived from an array's shape:\n",
    "\n",
    "* `a.ndim`: the number of dimensions (i.e., `len(a.shape)`),\n",
    "* `a.size`: its total number of entries (i.e., `math.prod(a.shape)`)."
   ]
  },
  {
   "cell_type": "code",
   "execution_count": null,
   "id": "e0577c26",
   "metadata": {},
   "outputs": [],
   "source": [
    "print(a.ndim)\n",
    "print(a.size)\n",
    "print(aa.ndim)\n",
    "print(aa.size)"
   ]
  },
  {
   "cell_type": "markdown",
   "id": "6fb2dfa2",
   "metadata": {},
   "source": [
    "The product of a list of numbers can be computed with `math.prod`."
   ]
  },
  {
   "cell_type": "code",
   "execution_count": null,
   "id": "61bb67ac",
   "metadata": {},
   "outputs": [],
   "source": [
    "from math import prod\n",
    "prod(aa.shape)"
   ]
  },
  {
   "cell_type": "markdown",
   "id": "6a96cdf6",
   "metadata": {},
   "source": [
    "There are a number of ways to quickly make arrays of a certain kind.\n",
    "For example, an array full of **zeros**, of a given **shape** and **type**:"
   ]
  },
  {
   "cell_type": "code",
   "execution_count": null,
   "id": "2853ec9b-3560-4025-9a2e-6fe57ddb045e",
   "metadata": {},
   "outputs": [],
   "source": [
    "np.zeros((3, 4), int)"
   ]
  },
  {
   "cell_type": "markdown",
   "id": "2e0b2af4-f2ca-4a8b-8f93-f104e0b8f42f",
   "metadata": {},
   "source": [
    "Or **ones**:"
   ]
  },
  {
   "cell_type": "code",
   "execution_count": null,
   "id": "87927187-3b3e-4f33-93e9-390e170bdf99",
   "metadata": {},
   "outputs": [],
   "source": [
    "np.ones(10, float)"
   ]
  },
  {
   "cell_type": "markdown",
   "id": "29c32aec-8885-4654-889f-d1cff8a75714",
   "metadata": {},
   "source": [
    "Or matrices with random entries, which can be useful, e.g. for testing purposes.\n",
    "For this, you first need to make a **random number generator**, let's call it `rng`."
   ]
  },
  {
   "cell_type": "code",
   "execution_count": null,
   "id": "7c418802-b2ec-4a17-a0c2-301e56ea1e5c",
   "metadata": {},
   "outputs": [],
   "source": [
    "rng = np.random.default_rng()"
   ]
  },
  {
   "cell_type": "markdown",
   "id": "13e81492-98f9-4220-8ee6-e8533b489dae",
   "metadata": {},
   "source": [
    "With this, we can create, say, a $3 \\times 4$ array of uniformly distributed random values between $0$ and $1$:"
   ]
  },
  {
   "cell_type": "code",
   "execution_count": null,
   "id": "187bcf41-b40c-4c19-a88a-5ce0552b724a",
   "metadata": {},
   "outputs": [],
   "source": [
    "rng.random((3,4))"
   ]
  },
  {
   "cell_type": "markdown",
   "id": "e252b38c-cac9-4de7-860d-ff728f706df6",
   "metadata": {},
   "source": [
    "Or a $2 \\times 3 \\times 5$ array of random integers in the range `range(0, 10)`:"
   ]
  },
  {
   "cell_type": "code",
   "execution_count": null,
   "id": "30c3f453-5833-4260-938d-d1dfed4dfe3c",
   "metadata": {},
   "outputs": [],
   "source": [
    "aaa = rng.integers(0, 10, (2, 3, 4))\n",
    "print(aaa)"
   ]
  },
  {
   "cell_type": "markdown",
   "id": "23f0eba4",
   "metadata": {},
   "source": [
    "---\n",
    "**Exercises.**\n",
    "\n",
    "1. Create a $3 \\times 3$ array of integers all equal to $1$.\n",
    "2. Use `np.arange` to create an array of integers corresponding to `range(1, 10)`.\n",
    "3. Use `np.linspace` to create an array of $5$ values, evenly spaced between $1$ and $3$ (inclusive).\n",
    "3. Compare `np.arange(0, 1.1, 0.2)` to `np.linspace(0, 1, 6)`.\n",
    "   What is the difference in how the endpoints are handled? \n",
    "4. Use `np.eye` to create a $3 \\times 3$ identity matrix.\n",
    "5. Use `np.array` to convert the `Matrix` object `ma` below into an array.\n",
    "   ```python\n",
    "   from tensor import *\n",
    "   ma = Matrix([Vector([1, 0, 1]), Vector([2, 1, 1]),Vector([0, 1, 1]), Vector([1, 1, 2])])\n",
    "   ```\n",
    "\n",
    "---"
   ]
  },
  {
   "cell_type": "markdown",
   "id": "93e88057-89ba-4da6-9c51-650d2af7fc7d",
   "metadata": {},
   "source": [
    "## Task 3. Multidimensional Indexing and Slicing."
   ]
  },
  {
   "cell_type": "markdown",
   "id": "7740378c",
   "metadata": {},
   "source": [
    "**Recall** that `l[i]` accesses the $i$th element of a list `l`, counting from $0$.  \n",
    "This kind of **indexing** can also be used to assign a new value to the $i$th element of the list `l`, as in `l[i] = 2`.  \n",
    "**Negative indices** count from the end of the list, so that `l[-1]` is the last element of `l`.\n",
    "\n",
    "In similar way, **slicing** is used to **extract a sublist** of values from a list `l`.  \n",
    "In general, `l[start:stop:step]` yields the list of values from positions `start` up to (but excluding) `stop`, with step size `step`.  \n",
    "Here the part `:step` is optional, with default step size $1$.  \n",
    "Also, `start` can be omitted and defaults to $0$, `stop` can be omitted and defaults to `len(l)`, so that `l[:]` results in an exact copy of `l`."
   ]
  },
  {
   "cell_type": "markdown",
   "id": "273f12c6",
   "metadata": {},
   "source": [
    "In a **multi-dimensional** numpy array, elements and sublists can be accessed with the same syntax, using a single index or a slice, one for **each dimension**."
   ]
  },
  {
   "cell_type": "code",
   "execution_count": null,
   "id": "bfa9bf05",
   "metadata": {},
   "outputs": [],
   "source": [
    "print(aaa[1,1,3])\n",
    "aaa[0,2,:]"
   ]
  },
  {
   "cell_type": "markdown",
   "id": "97d4d1b0",
   "metadata": {},
   "source": [
    "Unlike with plain python lists, array slices are **views** rather than **copies** of the array data.  \n",
    "Hence, updating elements of a view will update the original array as well. "
   ]
  },
  {
   "cell_type": "markdown",
   "id": "f1f41663",
   "metadata": {},
   "source": [
    "**Reshaping** is another useful operation on arrays.  As long as the `size` of an array remains the same, its elements can be refitted into any given shape."
   ]
  },
  {
   "cell_type": "code",
   "execution_count": null,
   "id": "a4116eef",
   "metadata": {},
   "outputs": [],
   "source": [
    "b = np.arange(1,13).reshape(3,4)\n",
    "print(b)\n",
    "print(b.reshape(4,3))\n",
    "print(b.reshape(2,2,3))"
   ]
  },
  {
   "cell_type": "markdown",
   "id": "2d4e5615",
   "metadata": {},
   "source": [
    "---\n",
    "**Exercises.**\n",
    "\n",
    "1. For this and the following exercises, set `x = np.arange(1, 11)`.\n",
    "2. Use slicing to select the first $5$ elements from `x`.\n",
    "3. Use slicing to select the last $5$ elements from `x`.\n",
    "4. Use slicing to select the elements at positions $4$, $5$ and $6$ from `x`.\n",
    "5. Use slicing to select every other element from `x`, i.e., the elements at the **even** positions.\n",
    "6. Use slicing to select the elements at the odd positions in `x`.\n",
    "7. Use slicing to list the elements of `x` in reverse order.\n",
    "8. Use slicing to list every other element of `x` in reverse order, starting at position $7$.\n",
    "\n",
    "---"
   ]
  },
  {
   "cell_type": "markdown",
   "id": "cb650aeb",
   "metadata": {},
   "source": [
    "## Task 4. Digital Image Manipulation."
   ]
  },
  {
   "cell_type": "markdown",
   "id": "b3feb2d3-58ca-489b-976c-a80ff4401ed8",
   "metadata": {},
   "source": [
    "* Motto: What looks like an array is an array ...\n",
    "* We will treat a digital image as a numpy array of suitable shape and type.\n",
    "* This will allow us to formulate (and program) certain image manipulation tasks as matrix operations.\n",
    " \n",
    "* `Pillow` is the **Python Image Library**. Import it as `PIL`. Use mainly its `Image` class."
   ]
  },
  {
   "cell_type": "code",
   "execution_count": null,
   "id": "e249f699-5046-486f-bfcc-87ab8c2730f2",
   "metadata": {},
   "outputs": [],
   "source": [
    "import PIL\n",
    "print(PIL.__version__)\n",
    "from PIL import Image"
   ]
  },
  {
   "cell_type": "markdown",
   "id": "41bebafe-801e-4571-b8e2-2f00f2e6ee79",
   "metadata": {},
   "source": [
    "* Use `Image.open` (on a filename) to load image data into a python session.\n",
    "* Here, the image is stored as a file `\"long_walk.png\"` in the folder `\"images\"`."
   ]
  },
  {
   "cell_type": "code",
   "execution_count": null,
   "id": "ab37bab6-6106-4e1b-8369-90c9d5f154e3",
   "metadata": {},
   "outputs": [],
   "source": [
    "img = Image.open(\"images/long_walk.png\")\n",
    "img"
   ]
  },
  {
   "cell_type": "markdown",
   "id": "50379e47",
   "metadata": {},
   "source": [
    "* The image as such is not an array."
   ]
  },
  {
   "cell_type": "code",
   "execution_count": null,
   "id": "9f45f650-7c43-42b7-a330-0271655e7600",
   "metadata": {},
   "outputs": [],
   "source": [
    "type(img)"
   ]
  },
  {
   "cell_type": "markdown",
   "id": "d214cfe0",
   "metadata": {},
   "source": [
    "* But we can easily **convert** an image into array format ..."
   ]
  },
  {
   "cell_type": "code",
   "execution_count": null,
   "id": "0b1a78de-37c8-401d-8d8d-423197cf25c7",
   "metadata": {},
   "outputs": [],
   "source": [
    "pic = np.array(img)\n",
    "print(pic.shape)\n",
    "print(pic.dtype)"
   ]
  },
  {
   "cell_type": "markdown",
   "id": "424b733f",
   "metadata": {},
   "source": [
    "* ... and convert the array back to an image."
   ]
  },
  {
   "cell_type": "code",
   "execution_count": null,
   "id": "277d53fe",
   "metadata": {},
   "outputs": [],
   "source": [
    "Image.fromarray(pic)"
   ]
  },
  {
   "cell_type": "markdown",
   "id": "bff0dc24",
   "metadata": {},
   "source": [
    "---\n",
    "**Exercises.**\n",
    "\n",
    "1. What is the image corresponding to the slice `pic[:100,:100,:]`?\n",
    "2. What image corresponds to `pic[:100,:100]`?\n",
    "3. What image results from slicing `pic[::-1]`?\n",
    "4. What is `pic[:,::-1]`?\n",
    "\n",
    "---"
   ]
  },
  {
   "cell_type": "markdown",
   "id": "5f206042",
   "metadata": {},
   "source": [
    "## Task 5.  The RGB color model"
   ]
  },
  {
   "cell_type": "markdown",
   "id": "f0627665",
   "metadata": {},
   "source": [
    "* Interestingly, the image becomes a 3-dimensional array, that is a matrix with $201$ rows and $1000$ columns, where each entry is itself an array of length $3$.\n",
    "* This corresponds to the **RGB color model**, where an image is represented as a rectangular grid (i.e., a matrix) of **pixels**.\n",
    "* And each pixel is a collection of $3$ intensity values $(r, g, b)$, one for each of the colors Red, Green and Blue.\n",
    "* The possible values of $r, g, b$ are the integers in the range between $0$ and $255$, that is unsigned $8$-bit integers, denoted as type `uint8` in numpy."
   ]
  },
  {
   "cell_type": "code",
   "execution_count": null,
   "id": "67c2e02b-de7f-4ab9-99be-56cbb4842e6b",
   "metadata": {},
   "outputs": [],
   "source": [
    "pic[99,99]"
   ]
  },
  {
   "cell_type": "markdown",
   "id": "ae2ff7e6-9d29-467b-bbbc-bfc68403aa46",
   "metadata": {},
   "source": [
    "* We can used **slicing** to crop an image, e.g., to pick just the top left corner."
   ]
  },
  {
   "cell_type": "code",
   "execution_count": null,
   "id": "464fe08d-8da8-46d6-837b-50207c7e98ed",
   "metadata": {},
   "outputs": [],
   "source": [
    "small = pic[:101,:201,:]\n",
    "Image.fromarray(small)"
   ]
  },
  {
   "cell_type": "markdown",
   "id": "2873a613-cf7e-4cb6-b07b-a46b851363ac",
   "metadata": {},
   "source": [
    "* We can **separate the $3$ colors** by setting $2$ color intensities to $0$ in a **copy** of the image.  Again, slicing avoids explicit `for` loops."
   ]
  },
  {
   "cell_type": "code",
   "execution_count": null,
   "id": "cd8de872-48a6-46b3-b903-56be61e26aa8",
   "metadata": {},
   "outputs": [],
   "source": [
    "r = pic.copy()\n",
    "r[:,:,1:] = 0\n",
    "print(r[99,99])\n",
    "Image.fromarray(r)"
   ]
  },
  {
   "cell_type": "code",
   "execution_count": null,
   "id": "03d5b283-0f59-4f5a-a5fc-9c5e960af82d",
   "metadata": {},
   "outputs": [],
   "source": [
    "b = pic.copy()\n",
    "b[:,:,:2] = 0\n",
    "print(b[99,99])\n",
    "Image.fromarray(b)"
   ]
  },
  {
   "cell_type": "code",
   "execution_count": null,
   "id": "6005dd96-e2c6-4c79-b8c7-0eff749ec9a1",
   "metadata": {},
   "outputs": [],
   "source": [
    "g = pic.copy()\n",
    "g[:,:,::2] = 0\n",
    "print(g[99,99])\n",
    "Image.fromarray(g)"
   ]
  },
  {
   "cell_type": "markdown",
   "id": "bb1a1ff5-a192-4831-98ae-a5b45ff126f4",
   "metadata": {},
   "source": [
    "* Addition: note how the original image is the **sum** of `r`, `g` and `b`."
   ]
  },
  {
   "cell_type": "code",
   "execution_count": null,
   "id": "c29b054b-1b8a-4741-afe6-ba8f0b866eb4",
   "metadata": {},
   "outputs": [],
   "source": [
    "Image.fromarray(r + g + b)"
   ]
  },
  {
   "cell_type": "markdown",
   "id": "44d52e83",
   "metadata": {},
   "source": [
    "---\n",
    "**Exercises.**\n",
    "\n",
    "1. Separate the colors and display as grayscale images by setting\n",
    "\n",
    "   ```python\n",
    "   R, G, B = pic[:,:,0], pic[:,:,1], pic[:,:,2]\n",
    "   ```\n",
    "   and then convert each of these $2$-dimensional arrays into an `Image`.\n",
    "2. Compute and display a grayscale version of the image as\n",
    "\n",
    "   ```python\n",
    "   0.299*R + 0.587*G + 0.114*B\n",
    "   ```\n",
    "\n",
    "---"
   ]
  },
  {
   "cell_type": "markdown",
   "id": "854e046d",
   "metadata": {},
   "source": [
    "##  Task 6.  Vectorized Operations"
   ]
  },
  {
   "cell_type": "markdown",
   "id": "3cedd292",
   "metadata": {},
   "source": [
    "Note that the sum `r + g + b` of three arrays of the same shape is a `numpy` shorthand for this more explicit Python code:"
   ]
  },
  {
   "cell_type": "code",
   "execution_count": null,
   "id": "5f237468",
   "metadata": {},
   "outputs": [],
   "source": [
    "rgb = np.zeros(r.shape, dtype=r.dtype)\n",
    "for i in range(r.shape[0]):\n",
    "    for j in range(r.shape[1]):\n",
    "        for k in range(r.shape[2]):\n",
    "            rgb[i, j, k] = r[i, j, k] + g[i, j, k] + b[i, j, k]\n",
    "\n",
    "Image.fromarray(rgb)"
   ]
  },
  {
   "cell_type": "markdown",
   "id": "7f4f3ec1-aab2-4e45-aa23-4d8cc8845fe6",
   "metadata": {},
   "source": [
    "* **Scaling** is another example:  Suppose we want a darker version of `pic`, with each color intensity just half of its original value. \n",
    "In priniple, all we need to do is to multiply each entry of `pic` by $0.5$.\n",
    "However, the entries in `pic` have type `uint8`, and multiplying such a number with a `float` results in a ``float`."
   ]
  },
  {
   "cell_type": "code",
   "execution_count": null,
   "id": "2495eb24",
   "metadata": {},
   "outputs": [],
   "source": [
    "p = pic[99,99,0]\n",
    "print(p)\n",
    "print(0.5 * p)\n",
    "type(0.5 * p)"
   ]
  },
  {
   "cell_type": "markdown",
   "id": "5aa48320",
   "metadata": {},
   "source": [
    "* But we can always convert this number back to the type of `pic[99, 99, 0]`, using the type `np.uint8` as a type conversion function."
   ]
  },
  {
   "cell_type": "code",
   "execution_count": null,
   "id": "1552ac01",
   "metadata": {},
   "outputs": [],
   "source": [
    "np.uint8(0.5 * p)"
   ]
  },
  {
   "cell_type": "markdown",
   "id": "f0df0d10",
   "metadata": {},
   "source": [
    "* So, here we go, looping over the pixels ..."
   ]
  },
  {
   "cell_type": "code",
   "execution_count": null,
   "id": "21f40e4e",
   "metadata": {},
   "outputs": [],
   "source": [
    "rgb = np.zeros(pic.shape, dtype=pic.dtype)\n",
    "for i in range(pic.shape[0]):\n",
    "    for j in range(pic.shape[1]):\n",
    "        for k in range(pic.shape[2]):\n",
    "            rgb[i, j, k] = np.uint8(0.5 * pic[i, j, k])\n",
    "\n",
    "Image.fromarray(rgb)"
   ]
  },
  {
   "cell_type": "markdown",
   "id": "6f8c64ba",
   "metadata": {},
   "source": [
    "* Again, `numpy` allows us to replace all three `for` loops by **vectorized operations** that apply to the entire array in one go, including the type conversion to `uint8`."
   ]
  },
  {
   "cell_type": "code",
   "execution_count": null,
   "id": "95f31e49-8a50-41af-8ec8-673954d0c470",
   "metadata": {},
   "outputs": [],
   "source": [
    "Image.fromarray(np.uint8(0.5 * pic))"
   ]
  },
  {
   "cell_type": "markdown",
   "id": "7279ecac",
   "metadata": {},
   "source": [
    "* Next, let's try and make a lighter version of the picture, by scaling pixels with a value bigger than $1$."
   ]
  },
  {
   "cell_type": "code",
   "execution_count": null,
   "id": "89c97d4c-5a8a-42bc-8d39-fa039aab2cc0",
   "metadata": {},
   "outputs": [],
   "source": [
    "Image.fromarray(np.uint8(1.5 * pic))"
   ]
  },
  {
   "cell_type": "markdown",
   "id": "71343173",
   "metadata": {},
   "source": [
    "* The result is partially disturbed by some random noise.  What happened?\n",
    "* A possible explanation is that scaling by $1.5$ can result in values larger than $255$, which get truncated to unintended small values when converted back to `uint8`."
   ]
  },
  {
   "cell_type": "code",
   "execution_count": null,
   "id": "f75a63cd",
   "metadata": {},
   "outputs": [],
   "source": [
    "np.uint8(1.5 * np.uint8(200))"
   ]
  },
  {
   "cell_type": "markdown",
   "id": "d07a40f2",
   "metadata": {},
   "source": [
    "* In order avoid this truncation, we should take care and not let the scaled value exceed $255$."
   ]
  },
  {
   "cell_type": "code",
   "execution_count": null,
   "id": "f5b45735",
   "metadata": {},
   "outputs": [],
   "source": [
    "np.uint8(min(1.5 * np.uint8(200), 255))"
   ]
  },
  {
   "cell_type": "markdown",
   "id": "c58f26e7",
   "metadata": {},
   "source": [
    "* Equipped with this technique, we can now loop over the pixels again."
   ]
  },
  {
   "cell_type": "code",
   "execution_count": null,
   "id": "6ddd2363",
   "metadata": {},
   "outputs": [],
   "source": [
    "rgb = np.zeros(pic.shape, dtype=pic.dtype)\n",
    "for i in range(pic.shape[0]):\n",
    "    for j in range(pic.shape[1]):\n",
    "        for k in range(pic.shape[2]):\n",
    "            rgb[i, j, k] = np.uint8(min(1.5 * pic[i, j, k], 255))\n",
    "\n",
    "Image.fromarray(rgb)"
   ]
  },
  {
   "cell_type": "markdown",
   "id": "d6299e67",
   "metadata": {},
   "source": [
    "* Can this be vectorized?  Unfortunately\n",
    "  ```python\n",
    "      min(1.5 * pic, 255)\n",
    "  ```\n",
    "  does not work, and neither does\n",
    "  ```python\n",
    "      np.min(1.5 * pic, 255)\n",
    "  ```\n",
    "  (why?)  \n",
    "* But `np.minimum` does work! (Check its documentation to find out how it is different from `np.min`.)"
   ]
  },
  {
   "cell_type": "code",
   "execution_count": null,
   "id": "2e3064a6-1956-4ea8-be6b-49095fc5bc7a",
   "metadata": {},
   "outputs": [],
   "source": [
    "Image.fromarray(np.uint8(np.minimum(1.5 * pic, 255)))"
   ]
  },
  {
   "cell_type": "markdown",
   "id": "99cd4e26-9bf3-43cb-bdeb-321188e8c57c",
   "metadata": {},
   "source": [
    "* Finally: Flip!"
   ]
  },
  {
   "cell_type": "code",
   "execution_count": null,
   "id": "d1a98150-2faa-49cc-ac52-7a191075550a",
   "metadata": {},
   "outputs": [],
   "source": [
    "Image.fromarray(np.flip(pic, 0))"
   ]
  },
  {
   "cell_type": "code",
   "execution_count": null,
   "id": "0d0cf822-6a8f-4f7b-8878-3e4b32ae0031",
   "metadata": {},
   "outputs": [],
   "source": [
    "Image.fromarray(np.flip(pic, 1))"
   ]
  },
  {
   "cell_type": "code",
   "execution_count": null,
   "id": "cecb60b4-e278-4237-ae34-04eaddb2daea",
   "metadata": {},
   "outputs": [],
   "source": [
    "Image.fromarray(np.flip(pic, 2))"
   ]
  },
  {
   "cell_type": "code",
   "execution_count": null,
   "id": "a4e17f66-12c8-4dcf-a8cc-6c5fd26a8e43",
   "metadata": {},
   "outputs": [],
   "source": [
    "Image.fromarray(pic)"
   ]
  },
  {
   "cell_type": "markdown",
   "id": "ae8945be",
   "metadata": {},
   "source": [
    "---\n",
    "**Exercises.**\n",
    "\n",
    "1. Use `np.flip` (or a corresponding slice) to rotate the image by 180 degrees.\n",
    "\n",
    "2. Let `x = np.linspace(0, 2*np.pi, 1000)`. \n",
    "   Compute `np.sin(x)**2 + np.cos(x)**2` and verify it equals 1.\n",
    "\n",
    "3. Create two arrays, an array `A` of shape $(3,1)$ and an array `B` of shape $(1,3)$, and compute\n",
    "   `A + B`.  Explain the result.\n",
    "---"
   ]
  },
  {
   "cell_type": "markdown",
   "id": "de67040f",
   "metadata": {},
   "source": [
    "## Summary\n",
    "\n",
    "- NumPy arrays are the foundation of scientific programming in Python.\n",
    "- Array operations replace explicit loops, leading to concise and efficient code.\n",
    "- Slicing and broadcasting enable powerful manipulation of data in any dimension.\n",
    "- Images are naturally represented as 3-D arrays (height × width × colour).\n",
    "- Vectorization is the key to high-performance numerical computing.\n"
   ]
  },
  {
   "cell_type": "markdown",
   "id": "cb1de7fa",
   "metadata": {},
   "source": []
  }
 ],
 "metadata": {
  "kernelspec": {
   "display_name": "Python 3",
   "language": "python",
   "name": "python3"
  },
  "language_info": {
   "codemirror_mode": {
    "name": "ipython",
    "version": 3
   },
   "file_extension": ".py",
   "mimetype": "text/x-python",
   "name": "python",
   "nbconvert_exporter": "python",
   "pygments_lexer": "ipython3",
   "version": "3.12.3"
  }
 },
 "nbformat": 4,
 "nbformat_minor": 5
}
