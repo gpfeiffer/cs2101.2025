{
 "cells": [
  {
   "cell_type": "markdown",
   "id": "419ec4b9",
   "metadata": {},
   "source": [
    "### Programming for Science and Finance\n",
    "\n",
    "*Prof. Götz Pfeiffer, School of Mathematical and Statistical Sciences, University of Galway*"
   ]
  },
  {
   "cell_type": "markdown",
   "id": "f8f4aaf5",
   "metadata": {},
   "source": [
    "# Notebook 5: Scientific Programming with I\n",
    "\n",
    "This notebook accompanies **Part II**. You will:\n",
    "\n",
    "* ..."
   ]
  },
  {
   "cell_type": "markdown",
   "id": "3688096b",
   "metadata": {},
   "source": [
    "## Task 1. Numpy Arrays."
   ]
  },
  {
   "cell_type": "markdown",
   "id": "65962a9d",
   "metadata": {},
   "source": [
    "When working with large amounts of data, one soon notices\n",
    "\n",
    "* Python lists need a lot of space;\n",
    "* Python loops need a lot of time.\n",
    "\n",
    "One reason for this is Python's dynamic typing, which allows lists to contain inhomogeneous data and variables to have no fixed type.\n",
    "\n",
    "If you know that you are working with homogeneous data, there are lots of savings to be made, both in terms of space and in terms of time.\n",
    "\n",
    "That's what the `numpy` package promises to provide."
   ]
  },
  {
   "cell_type": "code",
   "execution_count": null,
   "id": "c267b5ee-6c69-4651-b8bd-78da276e5a8f",
   "metadata": {},
   "outputs": [],
   "source": [
    "import numpy as np\n",
    "print(np.__version__)"
   ]
  },
  {
   "cell_type": "markdown",
   "id": "8a6b345a-bf81-4d4c-9d66-81b16e62de66",
   "metadata": {},
   "source": [
    "* Motto: What looks like an array is an array ...\n",
    "* For instance, the `Matrix` objects, defined in the `tensor` module, stored a file `\"tensor.py\"`."
   ]
  },
  {
   "cell_type": "code",
   "execution_count": null,
   "id": "2cf00405-2271-4b4d-b7dc-27c7f42f3bfa",
   "metadata": {},
   "outputs": [],
   "source": [
    "from tensor import *\n",
    "ma = Matrix([\n",
    "    Vector([1, 0, 1]),\n",
    "    Vector([2, 1, 1]),\n",
    "    Vector([0, 1, 1]),\n",
    "    Vector([1, 1, 2])\n",
    "])\n",
    "ma"
   ]
  },
  {
   "cell_type": "code",
   "execution_count": null,
   "id": "79366402-1a7a-4398-a6f1-aa87009e5d23",
   "metadata": {},
   "outputs": [],
   "source": [
    "np.array(ma)"
   ]
  },
  {
   "cell_type": "markdown",
   "id": "cb650aeb",
   "metadata": {},
   "source": [
    "## Task 2. Digital Image Manipulation."
   ]
  },
  {
   "cell_type": "markdown",
   "id": "b3feb2d3-58ca-489b-976c-a80ff4401ed8",
   "metadata": {},
   "source": [
    "* `Pillow` is the **Python Image Library**. Import it as `PIL`. Use mainly its `Image` class."
   ]
  },
  {
   "cell_type": "code",
   "execution_count": null,
   "id": "e249f699-5046-486f-bfcc-87ab8c2730f2",
   "metadata": {},
   "outputs": [],
   "source": [
    "import PIL\n",
    "print(PIL.__version__)"
   ]
  },
  {
   "cell_type": "code",
   "execution_count": null,
   "id": "3f9645e9-145f-46dd-8d8d-20e8ceb163a2",
   "metadata": {},
   "outputs": [],
   "source": [
    "from PIL import Image"
   ]
  },
  {
   "cell_type": "markdown",
   "id": "41bebafe-801e-4571-b8e2-2f00f2e6ee79",
   "metadata": {},
   "source": [
    "* Use `Image.open` (on a filename) to load image data into a python session.\n",
    "* Here, the image is stored as a file `\"long_walk.png\"` in the folder `\"images\"`."
   ]
  },
  {
   "cell_type": "code",
   "execution_count": null,
   "id": "ab37bab6-6106-4e1b-8369-90c9d5f154e3",
   "metadata": {},
   "outputs": [],
   "source": [
    "img = Image.open(\"images/long_walk.png\")\n",
    "img"
   ]
  },
  {
   "cell_type": "code",
   "execution_count": null,
   "id": "9f45f650-7c43-42b7-a330-0271655e7600",
   "metadata": {},
   "outputs": [],
   "source": [
    "type(img)"
   ]
  },
  {
   "cell_type": "code",
   "execution_count": null,
   "id": "0b1a78de-37c8-401d-8d8d-423197cf25c7",
   "metadata": {},
   "outputs": [],
   "source": [
    "pic = np.array(img)\n",
    "print(pic.shape)\n",
    "print(pic.dtype)"
   ]
  },
  {
   "cell_type": "code",
   "execution_count": null,
   "id": "67c2e02b-de7f-4ab9-99be-56cbb4842e6b",
   "metadata": {},
   "outputs": [],
   "source": [
    "pic[99,99]"
   ]
  },
  {
   "cell_type": "markdown",
   "id": "ae2ff7e6-9d29-467b-bbbc-bfc68403aa46",
   "metadata": {},
   "source": [
    "* Slicing, Array -> Image"
   ]
  },
  {
   "cell_type": "code",
   "execution_count": null,
   "id": "464fe08d-8da8-46d6-837b-50207c7e98ed",
   "metadata": {},
   "outputs": [],
   "source": [
    "small = pic[:101,:201,:]\n",
    "Image.fromarray(small)"
   ]
  },
  {
   "cell_type": "markdown",
   "id": "2873a613-cf7e-4cb6-b07b-a46b851363ac",
   "metadata": {},
   "source": [
    "* Separating Colors"
   ]
  },
  {
   "cell_type": "code",
   "execution_count": null,
   "id": "cd8de872-48a6-46b3-b903-56be61e26aa8",
   "metadata": {},
   "outputs": [],
   "source": [
    "r = pic.copy()\n",
    "r[:,:,1:] = 0\n",
    "print(r[99,99])\n",
    "Image.fromarray(r)"
   ]
  },
  {
   "cell_type": "code",
   "execution_count": null,
   "id": "03d5b283-0f59-4f5a-a5fc-9c5e960af82d",
   "metadata": {},
   "outputs": [],
   "source": [
    "b = pic.copy()\n",
    "b[:,:,:2] = 0\n",
    "print(b[99,99])\n",
    "Image.fromarray(b)"
   ]
  },
  {
   "cell_type": "code",
   "execution_count": null,
   "id": "6005dd96-e2c6-4c79-b8c7-0eff749ec9a1",
   "metadata": {},
   "outputs": [],
   "source": [
    "g = pic.copy()\n",
    "g[:,:,::2] = 0\n",
    "print(g[99,99])\n",
    "Image.fromarray(g)"
   ]
  },
  {
   "cell_type": "markdown",
   "id": "bb1a1ff5-a192-4831-98ae-a5b45ff126f4",
   "metadata": {},
   "source": [
    "* Addition: note how the original image is the **sum** of `r`, `g` and `b`."
   ]
  },
  {
   "cell_type": "code",
   "execution_count": null,
   "id": "c29b054b-1b8a-4741-afe6-ba8f0b866eb4",
   "metadata": {},
   "outputs": [],
   "source": [
    "Image.fromarray(r + g + b)"
   ]
  },
  {
   "cell_type": "markdown",
   "id": "7f4f3ec1-aab2-4e45-aa23-4d8cc8845fe6",
   "metadata": {},
   "source": [
    "* Scaling:"
   ]
  },
  {
   "cell_type": "code",
   "execution_count": null,
   "id": "95f31e49-8a50-41af-8ec8-673954d0c470",
   "metadata": {},
   "outputs": [],
   "source": [
    "Image.fromarray(np.uint8(0.5 * pic))"
   ]
  },
  {
   "cell_type": "code",
   "execution_count": null,
   "id": "89c97d4c-5a8a-42bc-8d39-fa039aab2cc0",
   "metadata": {},
   "outputs": [],
   "source": [
    "Image.fromarray(np.uint8(1.5 * pic))"
   ]
  },
  {
   "cell_type": "code",
   "execution_count": null,
   "id": "2e3064a6-1956-4ea8-be6b-49095fc5bc7a",
   "metadata": {},
   "outputs": [],
   "source": [
    "Image.fromarray(np.uint8(np.minimum(1.5 * pic, 255)))"
   ]
  },
  {
   "cell_type": "markdown",
   "id": "99cd4e26-9bf3-43cb-bdeb-321188e8c57c",
   "metadata": {},
   "source": [
    "* Flip!"
   ]
  },
  {
   "cell_type": "code",
   "execution_count": null,
   "id": "d1a98150-2faa-49cc-ac52-7a191075550a",
   "metadata": {},
   "outputs": [],
   "source": [
    "Image.fromarray(np.flip(pic, 0))"
   ]
  },
  {
   "cell_type": "code",
   "execution_count": null,
   "id": "0d0cf822-6a8f-4f7b-8878-3e4b32ae0031",
   "metadata": {},
   "outputs": [],
   "source": [
    "Image.fromarray(np.flip(pic, 1))"
   ]
  },
  {
   "cell_type": "code",
   "execution_count": null,
   "id": "cecb60b4-e278-4237-ae34-04eaddb2daea",
   "metadata": {},
   "outputs": [],
   "source": [
    "Image.fromarray(np.flip(pic, 2))"
   ]
  },
  {
   "cell_type": "markdown",
   "id": "081f9ed4-d76a-426b-9256-84522d4b21c7",
   "metadata": {},
   "source": [
    "* Sums and Convex Combinations"
   ]
  }
 ],
 "metadata": {
  "kernelspec": {
   "display_name": "Python 3 (ipykernel)",
   "language": "python",
   "name": "python3"
  },
  "language_info": {
   "codemirror_mode": {
    "name": "ipython",
    "version": 3
   },
   "file_extension": ".py",
   "mimetype": "text/x-python",
   "name": "python",
   "nbconvert_exporter": "python",
   "pygments_lexer": "ipython3",
   "version": "3.12.3"
  }
 },
 "nbformat": 4,
 "nbformat_minor": 5
}
